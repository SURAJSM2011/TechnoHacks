{
 "cells": [
  {
   "cell_type": "code",
   "execution_count": 1,
   "id": "9c0f735b",
   "metadata": {},
   "outputs": [],
   "source": [
    "import pandas as pd\n",
    "import numpy as np"
   ]
  },
  {
   "cell_type": "code",
   "execution_count": 2,
   "id": "343b7689",
   "metadata": {},
   "outputs": [],
   "source": [
    "df = pd.read_csv(\"spam.csv\",encoding='latin-1')"
   ]
  },
  {
   "cell_type": "code",
   "execution_count": 3,
   "id": "6d113850",
   "metadata": {},
   "outputs": [
    {
     "data": {
      "text/html": [
       "<div>\n",
       "<style scoped>\n",
       "    .dataframe tbody tr th:only-of-type {\n",
       "        vertical-align: middle;\n",
       "    }\n",
       "\n",
       "    .dataframe tbody tr th {\n",
       "        vertical-align: top;\n",
       "    }\n",
       "\n",
       "    .dataframe thead th {\n",
       "        text-align: right;\n",
       "    }\n",
       "</style>\n",
       "<table border=\"1\" class=\"dataframe\">\n",
       "  <thead>\n",
       "    <tr style=\"text-align: right;\">\n",
       "      <th></th>\n",
       "      <th>v1</th>\n",
       "      <th>v2</th>\n",
       "      <th>Unnamed: 2</th>\n",
       "      <th>Unnamed: 3</th>\n",
       "      <th>Unnamed: 4</th>\n",
       "    </tr>\n",
       "  </thead>\n",
       "  <tbody>\n",
       "    <tr>\n",
       "      <th>0</th>\n",
       "      <td>ham</td>\n",
       "      <td>Go until jurong point, crazy.. Available only ...</td>\n",
       "      <td>NaN</td>\n",
       "      <td>NaN</td>\n",
       "      <td>NaN</td>\n",
       "    </tr>\n",
       "    <tr>\n",
       "      <th>1</th>\n",
       "      <td>ham</td>\n",
       "      <td>Ok lar... Joking wif u oni...</td>\n",
       "      <td>NaN</td>\n",
       "      <td>NaN</td>\n",
       "      <td>NaN</td>\n",
       "    </tr>\n",
       "    <tr>\n",
       "      <th>2</th>\n",
       "      <td>spam</td>\n",
       "      <td>Free entry in 2 a wkly comp to win FA Cup fina...</td>\n",
       "      <td>NaN</td>\n",
       "      <td>NaN</td>\n",
       "      <td>NaN</td>\n",
       "    </tr>\n",
       "    <tr>\n",
       "      <th>3</th>\n",
       "      <td>ham</td>\n",
       "      <td>U dun say so early hor... U c already then say...</td>\n",
       "      <td>NaN</td>\n",
       "      <td>NaN</td>\n",
       "      <td>NaN</td>\n",
       "    </tr>\n",
       "    <tr>\n",
       "      <th>4</th>\n",
       "      <td>ham</td>\n",
       "      <td>Nah I don't think he goes to usf, he lives aro...</td>\n",
       "      <td>NaN</td>\n",
       "      <td>NaN</td>\n",
       "      <td>NaN</td>\n",
       "    </tr>\n",
       "  </tbody>\n",
       "</table>\n",
       "</div>"
      ],
      "text/plain": [
       "     v1                                                 v2 Unnamed: 2  \\\n",
       "0   ham  Go until jurong point, crazy.. Available only ...        NaN   \n",
       "1   ham                      Ok lar... Joking wif u oni...        NaN   \n",
       "2  spam  Free entry in 2 a wkly comp to win FA Cup fina...        NaN   \n",
       "3   ham  U dun say so early hor... U c already then say...        NaN   \n",
       "4   ham  Nah I don't think he goes to usf, he lives aro...        NaN   \n",
       "\n",
       "  Unnamed: 3 Unnamed: 4  \n",
       "0        NaN        NaN  \n",
       "1        NaN        NaN  \n",
       "2        NaN        NaN  \n",
       "3        NaN        NaN  \n",
       "4        NaN        NaN  "
      ]
     },
     "execution_count": 3,
     "metadata": {},
     "output_type": "execute_result"
    }
   ],
   "source": [
    "df.head()"
   ]
  },
  {
   "cell_type": "code",
   "execution_count": 4,
   "id": "f549220b",
   "metadata": {},
   "outputs": [
    {
     "data": {
      "text/html": [
       "<div>\n",
       "<style scoped>\n",
       "    .dataframe tbody tr th:only-of-type {\n",
       "        vertical-align: middle;\n",
       "    }\n",
       "\n",
       "    .dataframe tbody tr th {\n",
       "        vertical-align: top;\n",
       "    }\n",
       "\n",
       "    .dataframe thead th {\n",
       "        text-align: right;\n",
       "    }\n",
       "</style>\n",
       "<table border=\"1\" class=\"dataframe\">\n",
       "  <thead>\n",
       "    <tr style=\"text-align: right;\">\n",
       "      <th></th>\n",
       "      <th>v1</th>\n",
       "      <th>v2</th>\n",
       "      <th>Unnamed: 2</th>\n",
       "      <th>Unnamed: 3</th>\n",
       "      <th>Unnamed: 4</th>\n",
       "    </tr>\n",
       "  </thead>\n",
       "  <tbody>\n",
       "    <tr>\n",
       "      <th>5567</th>\n",
       "      <td>spam</td>\n",
       "      <td>This is the 2nd time we have tried 2 contact u...</td>\n",
       "      <td>NaN</td>\n",
       "      <td>NaN</td>\n",
       "      <td>NaN</td>\n",
       "    </tr>\n",
       "    <tr>\n",
       "      <th>5568</th>\n",
       "      <td>ham</td>\n",
       "      <td>Will Ì_ b going to esplanade fr home?</td>\n",
       "      <td>NaN</td>\n",
       "      <td>NaN</td>\n",
       "      <td>NaN</td>\n",
       "    </tr>\n",
       "    <tr>\n",
       "      <th>5569</th>\n",
       "      <td>ham</td>\n",
       "      <td>Pity, * was in mood for that. So...any other s...</td>\n",
       "      <td>NaN</td>\n",
       "      <td>NaN</td>\n",
       "      <td>NaN</td>\n",
       "    </tr>\n",
       "    <tr>\n",
       "      <th>5570</th>\n",
       "      <td>ham</td>\n",
       "      <td>The guy did some bitching but I acted like i'd...</td>\n",
       "      <td>NaN</td>\n",
       "      <td>NaN</td>\n",
       "      <td>NaN</td>\n",
       "    </tr>\n",
       "    <tr>\n",
       "      <th>5571</th>\n",
       "      <td>ham</td>\n",
       "      <td>Rofl. Its true to its name</td>\n",
       "      <td>NaN</td>\n",
       "      <td>NaN</td>\n",
       "      <td>NaN</td>\n",
       "    </tr>\n",
       "  </tbody>\n",
       "</table>\n",
       "</div>"
      ],
      "text/plain": [
       "        v1                                                 v2 Unnamed: 2  \\\n",
       "5567  spam  This is the 2nd time we have tried 2 contact u...        NaN   \n",
       "5568   ham              Will Ì_ b going to esplanade fr home?        NaN   \n",
       "5569   ham  Pity, * was in mood for that. So...any other s...        NaN   \n",
       "5570   ham  The guy did some bitching but I acted like i'd...        NaN   \n",
       "5571   ham                         Rofl. Its true to its name        NaN   \n",
       "\n",
       "     Unnamed: 3 Unnamed: 4  \n",
       "5567        NaN        NaN  \n",
       "5568        NaN        NaN  \n",
       "5569        NaN        NaN  \n",
       "5570        NaN        NaN  \n",
       "5571        NaN        NaN  "
      ]
     },
     "execution_count": 4,
     "metadata": {},
     "output_type": "execute_result"
    }
   ],
   "source": [
    "df.tail()"
   ]
  },
  {
   "cell_type": "code",
   "execution_count": 5,
   "id": "7ce578e7",
   "metadata": {},
   "outputs": [
    {
     "data": {
      "text/plain": [
       "(5572, 5)"
      ]
     },
     "execution_count": 5,
     "metadata": {},
     "output_type": "execute_result"
    }
   ],
   "source": [
    "df.shape"
   ]
  },
  {
   "cell_type": "markdown",
   "id": "65a6dd7c",
   "metadata": {},
   "source": [
    "## 1. Data Cleaning"
   ]
  },
  {
   "cell_type": "code",
   "execution_count": 6,
   "id": "29f96b32",
   "metadata": {},
   "outputs": [
    {
     "data": {
      "text/plain": [
       "v1               0\n",
       "v2               0\n",
       "Unnamed: 2    5522\n",
       "Unnamed: 3    5560\n",
       "Unnamed: 4    5566\n",
       "dtype: int64"
      ]
     },
     "execution_count": 6,
     "metadata": {},
     "output_type": "execute_result"
    }
   ],
   "source": [
    "df.isna().sum()"
   ]
  },
  {
   "cell_type": "code",
   "execution_count": 7,
   "id": "729651e8",
   "metadata": {},
   "outputs": [],
   "source": [
    "# Droping the null value columns\n",
    "df.drop(columns=['Unnamed: 2','Unnamed: 3','Unnamed: 4'],inplace=True)"
   ]
  },
  {
   "cell_type": "code",
   "execution_count": 8,
   "id": "95ebd62e",
   "metadata": {},
   "outputs": [
    {
     "data": {
      "text/html": [
       "<div>\n",
       "<style scoped>\n",
       "    .dataframe tbody tr th:only-of-type {\n",
       "        vertical-align: middle;\n",
       "    }\n",
       "\n",
       "    .dataframe tbody tr th {\n",
       "        vertical-align: top;\n",
       "    }\n",
       "\n",
       "    .dataframe thead th {\n",
       "        text-align: right;\n",
       "    }\n",
       "</style>\n",
       "<table border=\"1\" class=\"dataframe\">\n",
       "  <thead>\n",
       "    <tr style=\"text-align: right;\">\n",
       "      <th></th>\n",
       "      <th>v1</th>\n",
       "      <th>v2</th>\n",
       "    </tr>\n",
       "  </thead>\n",
       "  <tbody>\n",
       "    <tr>\n",
       "      <th>0</th>\n",
       "      <td>ham</td>\n",
       "      <td>Go until jurong point, crazy.. Available only ...</td>\n",
       "    </tr>\n",
       "    <tr>\n",
       "      <th>1</th>\n",
       "      <td>ham</td>\n",
       "      <td>Ok lar... Joking wif u oni...</td>\n",
       "    </tr>\n",
       "    <tr>\n",
       "      <th>2</th>\n",
       "      <td>spam</td>\n",
       "      <td>Free entry in 2 a wkly comp to win FA Cup fina...</td>\n",
       "    </tr>\n",
       "    <tr>\n",
       "      <th>3</th>\n",
       "      <td>ham</td>\n",
       "      <td>U dun say so early hor... U c already then say...</td>\n",
       "    </tr>\n",
       "    <tr>\n",
       "      <th>4</th>\n",
       "      <td>ham</td>\n",
       "      <td>Nah I don't think he goes to usf, he lives aro...</td>\n",
       "    </tr>\n",
       "  </tbody>\n",
       "</table>\n",
       "</div>"
      ],
      "text/plain": [
       "     v1                                                 v2\n",
       "0   ham  Go until jurong point, crazy.. Available only ...\n",
       "1   ham                      Ok lar... Joking wif u oni...\n",
       "2  spam  Free entry in 2 a wkly comp to win FA Cup fina...\n",
       "3   ham  U dun say so early hor... U c already then say...\n",
       "4   ham  Nah I don't think he goes to usf, he lives aro..."
      ]
     },
     "execution_count": 8,
     "metadata": {},
     "output_type": "execute_result"
    }
   ],
   "source": [
    "df.head()"
   ]
  },
  {
   "cell_type": "code",
   "execution_count": 9,
   "id": "cae7b2b1",
   "metadata": {},
   "outputs": [],
   "source": [
    "# rename the columns name\n",
    "df.rename(columns={'v1':'target','v2':'text'},inplace=True)"
   ]
  },
  {
   "cell_type": "code",
   "execution_count": 10,
   "id": "409725be",
   "metadata": {},
   "outputs": [
    {
     "data": {
      "text/html": [
       "<div>\n",
       "<style scoped>\n",
       "    .dataframe tbody tr th:only-of-type {\n",
       "        vertical-align: middle;\n",
       "    }\n",
       "\n",
       "    .dataframe tbody tr th {\n",
       "        vertical-align: top;\n",
       "    }\n",
       "\n",
       "    .dataframe thead th {\n",
       "        text-align: right;\n",
       "    }\n",
       "</style>\n",
       "<table border=\"1\" class=\"dataframe\">\n",
       "  <thead>\n",
       "    <tr style=\"text-align: right;\">\n",
       "      <th></th>\n",
       "      <th>target</th>\n",
       "      <th>text</th>\n",
       "    </tr>\n",
       "  </thead>\n",
       "  <tbody>\n",
       "    <tr>\n",
       "      <th>0</th>\n",
       "      <td>ham</td>\n",
       "      <td>Go until jurong point, crazy.. Available only ...</td>\n",
       "    </tr>\n",
       "    <tr>\n",
       "      <th>1</th>\n",
       "      <td>ham</td>\n",
       "      <td>Ok lar... Joking wif u oni...</td>\n",
       "    </tr>\n",
       "    <tr>\n",
       "      <th>2</th>\n",
       "      <td>spam</td>\n",
       "      <td>Free entry in 2 a wkly comp to win FA Cup fina...</td>\n",
       "    </tr>\n",
       "    <tr>\n",
       "      <th>3</th>\n",
       "      <td>ham</td>\n",
       "      <td>U dun say so early hor... U c already then say...</td>\n",
       "    </tr>\n",
       "    <tr>\n",
       "      <th>4</th>\n",
       "      <td>ham</td>\n",
       "      <td>Nah I don't think he goes to usf, he lives aro...</td>\n",
       "    </tr>\n",
       "  </tbody>\n",
       "</table>\n",
       "</div>"
      ],
      "text/plain": [
       "  target                                               text\n",
       "0    ham  Go until jurong point, crazy.. Available only ...\n",
       "1    ham                      Ok lar... Joking wif u oni...\n",
       "2   spam  Free entry in 2 a wkly comp to win FA Cup fina...\n",
       "3    ham  U dun say so early hor... U c already then say...\n",
       "4    ham  Nah I don't think he goes to usf, he lives aro..."
      ]
     },
     "execution_count": 10,
     "metadata": {},
     "output_type": "execute_result"
    }
   ],
   "source": [
    "df.head()"
   ]
  },
  {
   "cell_type": "code",
   "execution_count": 11,
   "id": "0c256a8b",
   "metadata": {},
   "outputs": [],
   "source": [
    "# Classifying the target column\n",
    "from sklearn.preprocessing import LabelEncoder\n",
    "encode = LabelEncoder()"
   ]
  },
  {
   "cell_type": "code",
   "execution_count": 12,
   "id": "4257feb4",
   "metadata": {},
   "outputs": [],
   "source": [
    "df['target'] =encode.fit_transform(df['target'])"
   ]
  },
  {
   "cell_type": "code",
   "execution_count": 13,
   "id": "5a606e98",
   "metadata": {},
   "outputs": [
    {
     "data": {
      "text/html": [
       "<div>\n",
       "<style scoped>\n",
       "    .dataframe tbody tr th:only-of-type {\n",
       "        vertical-align: middle;\n",
       "    }\n",
       "\n",
       "    .dataframe tbody tr th {\n",
       "        vertical-align: top;\n",
       "    }\n",
       "\n",
       "    .dataframe thead th {\n",
       "        text-align: right;\n",
       "    }\n",
       "</style>\n",
       "<table border=\"1\" class=\"dataframe\">\n",
       "  <thead>\n",
       "    <tr style=\"text-align: right;\">\n",
       "      <th></th>\n",
       "      <th>target</th>\n",
       "      <th>text</th>\n",
       "    </tr>\n",
       "  </thead>\n",
       "  <tbody>\n",
       "    <tr>\n",
       "      <th>0</th>\n",
       "      <td>0</td>\n",
       "      <td>Go until jurong point, crazy.. Available only ...</td>\n",
       "    </tr>\n",
       "    <tr>\n",
       "      <th>1</th>\n",
       "      <td>0</td>\n",
       "      <td>Ok lar... Joking wif u oni...</td>\n",
       "    </tr>\n",
       "    <tr>\n",
       "      <th>2</th>\n",
       "      <td>1</td>\n",
       "      <td>Free entry in 2 a wkly comp to win FA Cup fina...</td>\n",
       "    </tr>\n",
       "    <tr>\n",
       "      <th>3</th>\n",
       "      <td>0</td>\n",
       "      <td>U dun say so early hor... U c already then say...</td>\n",
       "    </tr>\n",
       "    <tr>\n",
       "      <th>4</th>\n",
       "      <td>0</td>\n",
       "      <td>Nah I don't think he goes to usf, he lives aro...</td>\n",
       "    </tr>\n",
       "  </tbody>\n",
       "</table>\n",
       "</div>"
      ],
      "text/plain": [
       "   target                                               text\n",
       "0       0  Go until jurong point, crazy.. Available only ...\n",
       "1       0                      Ok lar... Joking wif u oni...\n",
       "2       1  Free entry in 2 a wkly comp to win FA Cup fina...\n",
       "3       0  U dun say so early hor... U c already then say...\n",
       "4       0  Nah I don't think he goes to usf, he lives aro..."
      ]
     },
     "execution_count": 13,
     "metadata": {},
     "output_type": "execute_result"
    }
   ],
   "source": [
    "df.head()"
   ]
  },
  {
   "cell_type": "code",
   "execution_count": 14,
   "id": "fa8344eb",
   "metadata": {},
   "outputs": [
    {
     "data": {
      "text/plain": [
       "target    0\n",
       "text      0\n",
       "dtype: int64"
      ]
     },
     "execution_count": 14,
     "metadata": {},
     "output_type": "execute_result"
    }
   ],
   "source": [
    "df.isna().sum()"
   ]
  },
  {
   "cell_type": "code",
   "execution_count": 15,
   "id": "0e726ac0",
   "metadata": {},
   "outputs": [
    {
     "data": {
      "text/plain": [
       "403"
      ]
     },
     "execution_count": 15,
     "metadata": {},
     "output_type": "execute_result"
    }
   ],
   "source": [
    "# Checking for duplicate values\n",
    "df.duplicated().sum()"
   ]
  },
  {
   "cell_type": "code",
   "execution_count": 16,
   "id": "424820f1",
   "metadata": {},
   "outputs": [],
   "source": [
    "# Removing the duplicate values\n",
    "df = df.drop_duplicates(keep='first')"
   ]
  },
  {
   "cell_type": "code",
   "execution_count": 17,
   "id": "197384ca",
   "metadata": {},
   "outputs": [
    {
     "data": {
      "text/plain": [
       "0"
      ]
     },
     "execution_count": 17,
     "metadata": {},
     "output_type": "execute_result"
    }
   ],
   "source": [
    "df.duplicated().sum()"
   ]
  },
  {
   "cell_type": "code",
   "execution_count": 18,
   "id": "466b9cbe",
   "metadata": {},
   "outputs": [
    {
     "data": {
      "text/plain": [
       "(5169, 2)"
      ]
     },
     "execution_count": 18,
     "metadata": {},
     "output_type": "execute_result"
    }
   ],
   "source": [
    "df.shape"
   ]
  },
  {
   "cell_type": "markdown",
   "id": "6eccc388",
   "metadata": {},
   "source": [
    "## EDA - Exploratory Data Analysis"
   ]
  },
  {
   "cell_type": "code",
   "execution_count": 19,
   "id": "3d1dac04",
   "metadata": {},
   "outputs": [
    {
     "data": {
      "text/html": [
       "<div>\n",
       "<style scoped>\n",
       "    .dataframe tbody tr th:only-of-type {\n",
       "        vertical-align: middle;\n",
       "    }\n",
       "\n",
       "    .dataframe tbody tr th {\n",
       "        vertical-align: top;\n",
       "    }\n",
       "\n",
       "    .dataframe thead th {\n",
       "        text-align: right;\n",
       "    }\n",
       "</style>\n",
       "<table border=\"1\" class=\"dataframe\">\n",
       "  <thead>\n",
       "    <tr style=\"text-align: right;\">\n",
       "      <th></th>\n",
       "      <th>target</th>\n",
       "      <th>text</th>\n",
       "    </tr>\n",
       "  </thead>\n",
       "  <tbody>\n",
       "    <tr>\n",
       "      <th>0</th>\n",
       "      <td>0</td>\n",
       "      <td>Go until jurong point, crazy.. Available only ...</td>\n",
       "    </tr>\n",
       "    <tr>\n",
       "      <th>1</th>\n",
       "      <td>0</td>\n",
       "      <td>Ok lar... Joking wif u oni...</td>\n",
       "    </tr>\n",
       "    <tr>\n",
       "      <th>2</th>\n",
       "      <td>1</td>\n",
       "      <td>Free entry in 2 a wkly comp to win FA Cup fina...</td>\n",
       "    </tr>\n",
       "    <tr>\n",
       "      <th>3</th>\n",
       "      <td>0</td>\n",
       "      <td>U dun say so early hor... U c already then say...</td>\n",
       "    </tr>\n",
       "    <tr>\n",
       "      <th>4</th>\n",
       "      <td>0</td>\n",
       "      <td>Nah I don't think he goes to usf, he lives aro...</td>\n",
       "    </tr>\n",
       "  </tbody>\n",
       "</table>\n",
       "</div>"
      ],
      "text/plain": [
       "   target                                               text\n",
       "0       0  Go until jurong point, crazy.. Available only ...\n",
       "1       0                      Ok lar... Joking wif u oni...\n",
       "2       1  Free entry in 2 a wkly comp to win FA Cup fina...\n",
       "3       0  U dun say so early hor... U c already then say...\n",
       "4       0  Nah I don't think he goes to usf, he lives aro..."
      ]
     },
     "execution_count": 19,
     "metadata": {},
     "output_type": "execute_result"
    }
   ],
   "source": [
    "df.head()"
   ]
  },
  {
   "cell_type": "code",
   "execution_count": 20,
   "id": "bb181ad8",
   "metadata": {},
   "outputs": [
    {
     "data": {
      "text/plain": [
       "target\n",
       "0    4516\n",
       "1     653\n",
       "dtype: int64"
      ]
     },
     "execution_count": 20,
     "metadata": {},
     "output_type": "execute_result"
    }
   ],
   "source": [
    "df.value_counts(df['target'])"
   ]
  },
  {
   "cell_type": "code",
   "execution_count": 21,
   "id": "aef07157",
   "metadata": {},
   "outputs": [],
   "source": [
    "import matplotlib.pyplot as plt"
   ]
  },
  {
   "cell_type": "code",
   "execution_count": 22,
   "id": "9f43048d",
   "metadata": {},
   "outputs": [
    {
     "data": {
      "image/png": "[encoded data removed]",
      "text/plain": [
       "<Figure size 640x480 with 1 Axes>"
      ]
     },
     "metadata": {},
     "output_type": "display_data"
    }
   ],
   "source": [
    "plt.pie(df['target'].value_counts(),labels=['ham','spam'],autopct='%0.2f')\n",
    "plt.show()"
   ]
  },
  {
   "cell_type": "code",
   "execution_count": 23,
   "id": "7ae3a470",
   "metadata": {},
   "outputs": [],
   "source": [
    "# data is Imbalanced"
   ]
  },
  {
   "cell_type": "code",
   "execution_count": 24,
   "id": "597fb7e0",
   "metadata": {},
   "outputs": [
    {
     "name": "stdout",
     "output_type": "stream",
     "text": [
      "^C\n"
     ]
    }
   ],
   "source": [
    "!pip install nltk"
   ]
  },
  {
   "cell_type": "code",
   "execution_count": 26,
   "id": "7c98b645",
   "metadata": {},
   "outputs": [
    {
     "name": "stdout",
     "output_type": "stream",
     "text": [
      "Requirement already satisfied: nltk in d:\\anaconda3\\lib\\site-packages (3.7)\n",
      "Requirement already satisfied: tqdm in d:\\anaconda3\\lib\\site-packages (from nltk) (4.64.1)\n",
      "Requirement already satisfied: joblib in d:\\anaconda3\\lib\\site-packages (from nltk) (1.1.1)\n",
      "Requirement already satisfied: regex>=2021.8.3 in d:\\anaconda3\\lib\\site-packages (from nltk) (2022.7.9)\n",
      "Requirement already satisfied: click in d:\\anaconda3\\lib\\site-packages (from nltk) (8.0.4)\n",
      "Requirement already satisfied: colorama in d:\\anaconda3\\lib\\site-packages (from click->nltk) (0.4.6)\n"
     ]
    }
   ],
   "source": [
    "import nltk"
   ]
  },
  {
   "cell_type": "code",
   "execution_count": 26,
   "id": "7e2cd0d1",
   "metadata": {},
   "outputs": [
    {
     "name": "stderr",
     "output_type": "stream",
     "text": [
      "[nltk_data] Downloading package punkt to\n",
      "[nltk_data]     C:\\Users\\shashank_rp\\AppData\\Roaming\\nltk_data...\n",
      "[nltk_data]   Package punkt is already up-to-date!\n"
     ]
    },
    {
     "data": {
      "text/plain": [
       "True"
      ]
     },
     "execution_count": 26,
     "metadata": {},
     "output_type": "execute_result"
    }
   ],
   "source": [
    "nltk.download('punkt')"
   ]
  },
  {
   "cell_type": "code",
   "execution_count": 27,
   "id": "f5690b03",
   "metadata": {},
   "outputs": [],
   "source": [
    "# first column characters\n",
    "# Second column words\n",
    "# Third column senctence"
   ]
  },
  {
   "cell_type": "code",
   "execution_count": 28,
   "id": "46f1beaa",
   "metadata": {},
   "outputs": [],
   "source": [
    "df['num_char'] = df['text'].apply(len)"
   ]
  },
  {
   "cell_type": "code",
   "execution_count": 29,
   "id": "1f42837c",
   "metadata": {
    "scrolled": true
   },
   "outputs": [
    {
     "data": {
      "text/html": [
       "<div>\n",
       "<style scoped>\n",
       "    .dataframe tbody tr th:only-of-type {\n",
       "        vertical-align: middle;\n",
       "    }\n",
       "\n",
       "    .dataframe tbody tr th {\n",
       "        vertical-align: top;\n",
       "    }\n",
       "\n",
       "    .dataframe thead th {\n",
       "        text-align: right;\n",
       "    }\n",
       "</style>\n",
       "<table border=\"1\" class=\"dataframe\">\n",
       "  <thead>\n",
       "    <tr style=\"text-align: right;\">\n",
       "      <th></th>\n",
       "      <th>target</th>\n",
       "      <th>text</th>\n",
       "      <th>num_char</th>\n",
       "    </tr>\n",
       "  </thead>\n",
       "  <tbody>\n",
       "    <tr>\n",
       "      <th>0</th>\n",
       "      <td>0</td>\n",
       "      <td>Go until jurong point, crazy.. Available only ...</td>\n",
       "      <td>111</td>\n",
       "    </tr>\n",
       "    <tr>\n",
       "      <th>1</th>\n",
       "      <td>0</td>\n",
       "      <td>Ok lar... Joking wif u oni...</td>\n",
       "      <td>29</td>\n",
       "    </tr>\n",
       "    <tr>\n",
       "      <th>2</th>\n",
       "      <td>1</td>\n",
       "      <td>Free entry in 2 a wkly comp to win FA Cup fina...</td>\n",
       "      <td>155</td>\n",
       "    </tr>\n",
       "    <tr>\n",
       "      <th>3</th>\n",
       "      <td>0</td>\n",
       "      <td>U dun say so early hor... U c already then say...</td>\n",
       "      <td>49</td>\n",
       "    </tr>\n",
       "    <tr>\n",
       "      <th>4</th>\n",
       "      <td>0</td>\n",
       "      <td>Nah I don't think he goes to usf, he lives aro...</td>\n",
       "      <td>61</td>\n",
       "    </tr>\n",
       "  </tbody>\n",
       "</table>\n",
       "</div>"
      ],
      "text/plain": [
       "   target                                               text  num_char\n",
       "0       0  Go until jurong point, crazy.. Available only ...       111\n",
       "1       0                      Ok lar... Joking wif u oni...        29\n",
       "2       1  Free entry in 2 a wkly comp to win FA Cup fina...       155\n",
       "3       0  U dun say so early hor... U c already then say...        49\n",
       "4       0  Nah I don't think he goes to usf, he lives aro...        61"
      ]
     },
     "execution_count": 29,
     "metadata": {},
     "output_type": "execute_result"
    }
   ],
   "source": [
    "df.head()"
   ]
  },
  {
   "cell_type": "code",
   "execution_count": 30,
   "id": "151f7ac1",
   "metadata": {},
   "outputs": [],
   "source": [
    "df['num_words'] = df['text'].apply(lambda x:len(nltk.word_tokenize(x)))"
   ]
  },
  {
   "cell_type": "code",
   "execution_count": 31,
   "id": "cb480a94",
   "metadata": {},
   "outputs": [
    {
     "data": {
      "text/html": [
       "<div>\n",
       "<style scoped>\n",
       "    .dataframe tbody tr th:only-of-type {\n",
       "        vertical-align: middle;\n",
       "    }\n",
       "\n",
       "    .dataframe tbody tr th {\n",
       "        vertical-align: top;\n",
       "    }\n",
       "\n",
       "    .dataframe thead th {\n",
       "        text-align: right;\n",
       "    }\n",
       "</style>\n",
       "<table border=\"1\" class=\"dataframe\">\n",
       "  <thead>\n",
       "    <tr style=\"text-align: right;\">\n",
       "      <th></th>\n",
       "      <th>target</th>\n",
       "      <th>text</th>\n",
       "      <th>num_char</th>\n",
       "      <th>num_words</th>\n",
       "    </tr>\n",
       "  </thead>\n",
       "  <tbody>\n",
       "    <tr>\n",
       "      <th>0</th>\n",
       "      <td>0</td>\n",
       "      <td>Go until jurong point, crazy.. Available only ...</td>\n",
       "      <td>111</td>\n",
       "      <td>24</td>\n",
       "    </tr>\n",
       "    <tr>\n",
       "      <th>1</th>\n",
       "      <td>0</td>\n",
       "      <td>Ok lar... Joking wif u oni...</td>\n",
       "      <td>29</td>\n",
       "      <td>8</td>\n",
       "    </tr>\n",
       "    <tr>\n",
       "      <th>2</th>\n",
       "      <td>1</td>\n",
       "      <td>Free entry in 2 a wkly comp to win FA Cup fina...</td>\n",
       "      <td>155</td>\n",
       "      <td>37</td>\n",
       "    </tr>\n",
       "    <tr>\n",
       "      <th>3</th>\n",
       "      <td>0</td>\n",
       "      <td>U dun say so early hor... U c already then say...</td>\n",
       "      <td>49</td>\n",
       "      <td>13</td>\n",
       "    </tr>\n",
       "    <tr>\n",
       "      <th>4</th>\n",
       "      <td>0</td>\n",
       "      <td>Nah I don't think he goes to usf, he lives aro...</td>\n",
       "      <td>61</td>\n",
       "      <td>15</td>\n",
       "    </tr>\n",
       "  </tbody>\n",
       "</table>\n",
       "</div>"
      ],
      "text/plain": [
       "   target                                               text  num_char  \\\n",
       "0       0  Go until jurong point, crazy.. Available only ...       111   \n",
       "1       0                      Ok lar... Joking wif u oni...        29   \n",
       "2       1  Free entry in 2 a wkly comp to win FA Cup fina...       155   \n",
       "3       0  U dun say so early hor... U c already then say...        49   \n",
       "4       0  Nah I don't think he goes to usf, he lives aro...        61   \n",
       "\n",
       "   num_words  \n",
       "0         24  \n",
       "1          8  \n",
       "2         37  \n",
       "3         13  \n",
       "4         15  "
      ]
     },
     "execution_count": 31,
     "metadata": {},
     "output_type": "execute_result"
    }
   ],
   "source": [
    "df.head()"
   ]
  },
  {
   "cell_type": "code",
   "execution_count": 32,
   "id": "dda871de",
   "metadata": {},
   "outputs": [],
   "source": [
    "df['num_sent'] = df['text'].apply(lambda x:len(nltk.sent_tokenize(x)))"
   ]
  },
  {
   "cell_type": "code",
   "execution_count": 33,
   "id": "1d3138e0",
   "metadata": {},
   "outputs": [
    {
     "data": {
      "text/html": [
       "<div>\n",
       "<style scoped>\n",
       "    .dataframe tbody tr th:only-of-type {\n",
       "        vertical-align: middle;\n",
       "    }\n",
       "\n",
       "    .dataframe tbody tr th {\n",
       "        vertical-align: top;\n",
       "    }\n",
       "\n",
       "    .dataframe thead th {\n",
       "        text-align: right;\n",
       "    }\n",
       "</style>\n",
       "<table border=\"1\" class=\"dataframe\">\n",
       "  <thead>\n",
       "    <tr style=\"text-align: right;\">\n",
       "      <th></th>\n",
       "      <th>target</th>\n",
       "      <th>text</th>\n",
       "      <th>num_char</th>\n",
       "      <th>num_words</th>\n",
       "      <th>num_sent</th>\n",
       "    </tr>\n",
       "  </thead>\n",
       "  <tbody>\n",
       "    <tr>\n",
       "      <th>0</th>\n",
       "      <td>0</td>\n",
       "      <td>Go until jurong point, crazy.. Available only ...</td>\n",
       "      <td>111</td>\n",
       "      <td>24</td>\n",
       "      <td>2</td>\n",
       "    </tr>\n",
       "    <tr>\n",
       "      <th>1</th>\n",
       "      <td>0</td>\n",
       "      <td>Ok lar... Joking wif u oni...</td>\n",
       "      <td>29</td>\n",
       "      <td>8</td>\n",
       "      <td>2</td>\n",
       "    </tr>\n",
       "    <tr>\n",
       "      <th>2</th>\n",
       "      <td>1</td>\n",
       "      <td>Free entry in 2 a wkly comp to win FA Cup fina...</td>\n",
       "      <td>155</td>\n",
       "      <td>37</td>\n",
       "      <td>2</td>\n",
       "    </tr>\n",
       "    <tr>\n",
       "      <th>3</th>\n",
       "      <td>0</td>\n",
       "      <td>U dun say so early hor... U c already then say...</td>\n",
       "      <td>49</td>\n",
       "      <td>13</td>\n",
       "      <td>1</td>\n",
       "    </tr>\n",
       "    <tr>\n",
       "      <th>4</th>\n",
       "      <td>0</td>\n",
       "      <td>Nah I don't think he goes to usf, he lives aro...</td>\n",
       "      <td>61</td>\n",
       "      <td>15</td>\n",
       "      <td>1</td>\n",
       "    </tr>\n",
       "  </tbody>\n",
       "</table>\n",
       "</div>"
      ],
      "text/plain": [
       "   target                                               text  num_char  \\\n",
       "0       0  Go until jurong point, crazy.. Available only ...       111   \n",
       "1       0                      Ok lar... Joking wif u oni...        29   \n",
       "2       1  Free entry in 2 a wkly comp to win FA Cup fina...       155   \n",
       "3       0  U dun say so early hor... U c already then say...        49   \n",
       "4       0  Nah I don't think he goes to usf, he lives aro...        61   \n",
       "\n",
       "   num_words  num_sent  \n",
       "0         24         2  \n",
       "1          8         2  \n",
       "2         37         2  \n",
       "3         13         1  \n",
       "4         15         1  "
      ]
     },
     "execution_count": 33,
     "metadata": {},
     "output_type": "execute_result"
    }
   ],
   "source": [
    "df.head()"
   ]
  },
  {
   "cell_type": "code",
   "execution_count": 34,
   "id": "c9af899d",
   "metadata": {},
   "outputs": [
    {
     "data": {
      "text/html": [
       "<div>\n",
       "<style scoped>\n",
       "    .dataframe tbody tr th:only-of-type {\n",
       "        vertical-align: middle;\n",
       "    }\n",
       "\n",
       "    .dataframe tbody tr th {\n",
       "        vertical-align: top;\n",
       "    }\n",
       "\n",
       "    .dataframe thead th {\n",
       "        text-align: right;\n",
       "    }\n",
       "</style>\n",
       "<table border=\"1\" class=\"dataframe\">\n",
       "  <thead>\n",
       "    <tr style=\"text-align: right;\">\n",
       "      <th></th>\n",
       "      <th>num_char</th>\n",
       "      <th>num_words</th>\n",
       "      <th>num_sent</th>\n",
       "    </tr>\n",
       "  </thead>\n",
       "  <tbody>\n",
       "    <tr>\n",
       "      <th>count</th>\n",
       "      <td>4516.000000</td>\n",
       "      <td>4516.000000</td>\n",
       "      <td>4516.000000</td>\n",
       "    </tr>\n",
       "    <tr>\n",
       "      <th>mean</th>\n",
       "      <td>70.459256</td>\n",
       "      <td>17.120903</td>\n",
       "      <td>1.799601</td>\n",
       "    </tr>\n",
       "    <tr>\n",
       "      <th>std</th>\n",
       "      <td>56.358207</td>\n",
       "      <td>13.493725</td>\n",
       "      <td>1.278465</td>\n",
       "    </tr>\n",
       "    <tr>\n",
       "      <th>min</th>\n",
       "      <td>2.000000</td>\n",
       "      <td>1.000000</td>\n",
       "      <td>1.000000</td>\n",
       "    </tr>\n",
       "    <tr>\n",
       "      <th>25%</th>\n",
       "      <td>34.000000</td>\n",
       "      <td>8.000000</td>\n",
       "      <td>1.000000</td>\n",
       "    </tr>\n",
       "    <tr>\n",
       "      <th>50%</th>\n",
       "      <td>52.000000</td>\n",
       "      <td>13.000000</td>\n",
       "      <td>1.000000</td>\n",
       "    </tr>\n",
       "    <tr>\n",
       "      <th>75%</th>\n",
       "      <td>90.000000</td>\n",
       "      <td>22.000000</td>\n",
       "      <td>2.000000</td>\n",
       "    </tr>\n",
       "    <tr>\n",
       "      <th>max</th>\n",
       "      <td>910.000000</td>\n",
       "      <td>220.000000</td>\n",
       "      <td>28.000000</td>\n",
       "    </tr>\n",
       "  </tbody>\n",
       "</table>\n",
       "</div>"
      ],
      "text/plain": [
       "          num_char    num_words     num_sent\n",
       "count  4516.000000  4516.000000  4516.000000\n",
       "mean     70.459256    17.120903     1.799601\n",
       "std      56.358207    13.493725     1.278465\n",
       "min       2.000000     1.000000     1.000000\n",
       "25%      34.000000     8.000000     1.000000\n",
       "50%      52.000000    13.000000     1.000000\n",
       "75%      90.000000    22.000000     2.000000\n",
       "max     910.000000   220.000000    28.000000"
      ]
     },
     "execution_count": 34,
     "metadata": {},
     "output_type": "execute_result"
    }
   ],
   "source": [
    "# ham messages\n",
    "df[df['target'] == 0][['num_char','num_words','num_sent']].describe()"
   ]
  },
  {
   "cell_type": "code",
   "execution_count": 35,
   "id": "db88f4e0",
   "metadata": {},
   "outputs": [
    {
     "data": {
      "text/html": [
       "<div>\n",
       "<style scoped>\n",
       "    .dataframe tbody tr th:only-of-type {\n",
       "        vertical-align: middle;\n",
       "    }\n",
       "\n",
       "    .dataframe tbody tr th {\n",
       "        vertical-align: top;\n",
       "    }\n",
       "\n",
       "    .dataframe thead th {\n",
       "        text-align: right;\n",
       "    }\n",
       "</style>\n",
       "<table border=\"1\" class=\"dataframe\">\n",
       "  <thead>\n",
       "    <tr style=\"text-align: right;\">\n",
       "      <th></th>\n",
       "      <th>num_char</th>\n",
       "      <th>num_words</th>\n",
       "      <th>num_sent</th>\n",
       "    </tr>\n",
       "  </thead>\n",
       "  <tbody>\n",
       "    <tr>\n",
       "      <th>count</th>\n",
       "      <td>653.000000</td>\n",
       "      <td>653.000000</td>\n",
       "      <td>653.000000</td>\n",
       "    </tr>\n",
       "    <tr>\n",
       "      <th>mean</th>\n",
       "      <td>137.891271</td>\n",
       "      <td>27.667688</td>\n",
       "      <td>2.967841</td>\n",
       "    </tr>\n",
       "    <tr>\n",
       "      <th>std</th>\n",
       "      <td>30.137753</td>\n",
       "      <td>7.008418</td>\n",
       "      <td>1.483201</td>\n",
       "    </tr>\n",
       "    <tr>\n",
       "      <th>min</th>\n",
       "      <td>13.000000</td>\n",
       "      <td>2.000000</td>\n",
       "      <td>1.000000</td>\n",
       "    </tr>\n",
       "    <tr>\n",
       "      <th>25%</th>\n",
       "      <td>132.000000</td>\n",
       "      <td>25.000000</td>\n",
       "      <td>2.000000</td>\n",
       "    </tr>\n",
       "    <tr>\n",
       "      <th>50%</th>\n",
       "      <td>149.000000</td>\n",
       "      <td>29.000000</td>\n",
       "      <td>3.000000</td>\n",
       "    </tr>\n",
       "    <tr>\n",
       "      <th>75%</th>\n",
       "      <td>157.000000</td>\n",
       "      <td>32.000000</td>\n",
       "      <td>4.000000</td>\n",
       "    </tr>\n",
       "    <tr>\n",
       "      <th>max</th>\n",
       "      <td>224.000000</td>\n",
       "      <td>46.000000</td>\n",
       "      <td>8.000000</td>\n",
       "    </tr>\n",
       "  </tbody>\n",
       "</table>\n",
       "</div>"
      ],
      "text/plain": [
       "         num_char   num_words    num_sent\n",
       "count  653.000000  653.000000  653.000000\n",
       "mean   137.891271   27.667688    2.967841\n",
       "std     30.137753    7.008418    1.483201\n",
       "min     13.000000    2.000000    1.000000\n",
       "25%    132.000000   25.000000    2.000000\n",
       "50%    149.000000   29.000000    3.000000\n",
       "75%    157.000000   32.000000    4.000000\n",
       "max    224.000000   46.000000    8.000000"
      ]
     },
     "execution_count": 35,
     "metadata": {},
     "output_type": "execute_result"
    }
   ],
   "source": [
    "# spam messages\n",
    "df[df['target'] == 1][['num_char','num_words','num_sent']].describe()"
   ]
  },
  {
   "cell_type": "code",
   "execution_count": 36,
   "id": "e1585146",
   "metadata": {},
   "outputs": [],
   "source": [
    "# ploting histogram"
   ]
  },
  {
   "cell_type": "code",
   "execution_count": 37,
   "id": "720e5a28",
   "metadata": {},
   "outputs": [],
   "source": [
    "import seaborn as sns"
   ]
  },
  {
   "cell_type": "code",
   "execution_count": 38,
   "id": "fc6ac201",
   "metadata": {},
   "outputs": [
    {
     "data": {
      "text/plain": [
       "<Axes: xlabel='num_char', ylabel='Count'>"
      ]
     },
     "execution_count": 38,
     "metadata": {},
     "output_type": "execute_result"
    },
    {
     "data": {
      "image/png": "[encoded data removed]",
      "text/plain": [
       "<Figure size 640x480 with 1 Axes>"
      ]
     },
     "metadata": {},
     "output_type": "display_data"
    }
   ],
   "source": [
    "sns.histplot(df[df['target'] == 0]['num_char'])\n",
    "sns.histplot(df[df['target'] == 1]['num_char'],color='r')"
   ]
  },
  {
   "cell_type": "code",
   "execution_count": 39,
   "id": "c1f6b53a",
   "metadata": {},
   "outputs": [
    {
     "data": {
      "text/plain": [
       "<Axes: xlabel='num_words', ylabel='Count'>"
      ]
     },
     "execution_count": 39,
     "metadata": {},
     "output_type": "execute_result"
    },
    {
     "data": {
      "image/png": "[encoded data removed]",
      "text/plain": [
       "<Figure size 640x480 with 1 Axes>"
      ]
     },
     "metadata": {},
     "output_type": "display_data"
    }
   ],
   "source": [
    "sns.histplot(df[df['target'] == 0]['num_words'])\n",
    "sns.histplot(df[df['target'] == 1]['num_words'],color='r')"
   ]
  },
  {
   "cell_type": "code",
   "execution_count": 40,
   "id": "55510f89",
   "metadata": {},
   "outputs": [
    {
     "data": {
      "text/plain": [
       "<Axes: xlabel='num_sent', ylabel='Count'>"
      ]
     },
     "execution_count": 40,
     "metadata": {},
     "output_type": "execute_result"
    },
    {
     "data": {
      "image/png": "[encoded data removed]",
      "text/plain": [
       "<Figure size 640x480 with 1 Axes>"
      ]
     },
     "metadata": {},
     "output_type": "display_data"
    }
   ],
   "source": [
    "sns.histplot(df[df['target'] == 0]['num_sent'])\n",
    "sns.histplot(df[df['target'] == 1]['num_sent'],color='r')"
   ]
  },
  {
   "cell_type": "code",
   "execution_count": 41,
   "id": "00d2c96c",
   "metadata": {},
   "outputs": [],
   "source": [
    "# corelation in target"
   ]
  },
  {
   "cell_type": "code",
   "execution_count": 42,
   "id": "ddd29ec2",
   "metadata": {},
   "outputs": [
    {
     "data": {
      "text/plain": [
       "<seaborn.axisgrid.PairGrid at 0x2800ed89f60>"
      ]
     },
     "execution_count": 42,
     "metadata": {},
     "output_type": "execute_result"
    },
    {
     "data": {
      "image/png": "[encoded data removed]",
      "text/plain": [
       "<Figure size 808.875x750 with 12 Axes>"
      ]
     },
     "metadata": {},
     "output_type": "display_data"
    }
   ],
   "source": [
    "sns.pairplot(df,hue='target')"
   ]
  },
  {
   "cell_type": "code",
   "execution_count": 43,
   "id": "20623754",
   "metadata": {},
   "outputs": [
    {
     "name": "stderr",
     "output_type": "stream",
     "text": [
      "C:\\Users\\shashank_rp\\AppData\\Local\\Temp\\ipykernel_14648\\4277794465.py:1: FutureWarning: The default value of numeric_only in DataFrame.corr is deprecated. In a future version, it will default to False. Select only valid columns or specify the value of numeric_only to silence this warning.\n",
      "  sns.heatmap(df.corr(),annot=True)\n"
     ]
    },
    {
     "data": {
      "text/plain": [
       "<Axes: >"
      ]
     },
     "execution_count": 43,
     "metadata": {},
     "output_type": "execute_result"
    },
    {
     "data": {
      "image/png": "[encoded data removed]",
      "text/plain": [
       "<Figure size 640x480 with 2 Axes>"
      ]
     },
     "metadata": {},
     "output_type": "display_data"
    }
   ],
   "source": [
    "sns.heatmap(df.corr(),annot=True)"
   ]
  },
  {
   "cell_type": "markdown",
   "id": "649037be",
   "metadata": {},
   "source": [
    "## Data preprocessing\n",
    "* Lower case\n",
    "* Tokenizer\n",
    "* Removing special characters\n",
    "* Removing stop punctions\n",
    "* Steming"
   ]
  },
  {
   "cell_type": "code",
   "execution_count": 44,
   "id": "47c3f523",
   "metadata": {},
   "outputs": [],
   "source": [
    "from nltk.corpus import stopwords\n",
    "import string"
   ]
  },
  {
   "cell_type": "code",
   "execution_count": 45,
   "id": "7a87432b",
   "metadata": {},
   "outputs": [],
   "source": [
    "def transform_text(text):\n",
    "    #converting the text to lowercase\n",
    "    text = text.lower()\n",
    "    #spliting the text into string tokens\n",
    "    text = nltk.word_tokenize(text)\n",
    "    #only text and numbers no special characters remove all\n",
    "    tlst = []\n",
    "    for i in text:\n",
    "        if i.isalnum():\n",
    "            tlst.append(i)\n",
    "    #removing the punctions\n",
    "    text = tlst[:]\n",
    "    tlst.clear()\n",
    "    for i in text:\n",
    "        if i not in stopwords.words('english') and i not in string.punctuation:\n",
    "            tlst.append(i)\n",
    "    #steming the words\n",
    "    text = tlst[:]\n",
    "    tlst.clear()\n",
    "    for i in text:\n",
    "        tlst.append(stemmer.stem(i))\n",
    "    return \" \".join(tlst)"
   ]
  },
  {
   "cell_type": "code",
   "execution_count": 46,
   "id": "e3e189bb",
   "metadata": {},
   "outputs": [
    {
     "data": {
      "text/plain": [
       "'hello hi love colleg geitdfkdj dfjlksfh friend'"
      ]
     },
     "execution_count": 46,
     "metadata": {},
     "output_type": "execute_result"
    }
   ],
   "source": [
    "from nltk.stem.porter import PorterStemmer\n",
    "stemmer = PorterStemmer()\n",
    "transform_text('HELlo mY is hi loving colleges geitdfkdjs dfjlksfh fRieND !')"
   ]
  },
  {
   "cell_type": "code",
   "execution_count": null,
   "id": "e6d810b5",
   "metadata": {},
   "outputs": [],
   "source": []
  },
  {
   "cell_type": "code",
   "execution_count": 47,
   "id": "6b4e1cd3",
   "metadata": {},
   "outputs": [
    {
     "data": {
      "text/plain": [
       "'Go until jurong point, crazy.. Available only in bugis n great world la e buffet... Cine there got amore wat...'"
      ]
     },
     "execution_count": 47,
     "metadata": {},
     "output_type": "execute_result"
    }
   ],
   "source": [
    "df['text'][0]"
   ]
  },
  {
   "cell_type": "code",
   "execution_count": 48,
   "id": "4b38fb67",
   "metadata": {},
   "outputs": [
    {
     "data": {
      "text/plain": [
       "'go jurong point crazi avail bugi n great world la e buffet cine got amor wat'"
      ]
     },
     "execution_count": 48,
     "metadata": {},
     "output_type": "execute_result"
    }
   ],
   "source": [
    "transform_text(df['text'][0])"
   ]
  },
  {
   "cell_type": "code",
   "execution_count": 49,
   "id": "d5c18716",
   "metadata": {},
   "outputs": [],
   "source": [
    "df['transform_text'] = df['text'].apply(transform_text)"
   ]
  },
  {
   "cell_type": "code",
   "execution_count": 50,
   "id": "cdc32ce8",
   "metadata": {},
   "outputs": [
    {
     "data": {
      "text/html": [
       "<div>\n",
       "<style scoped>\n",
       "    .dataframe tbody tr th:only-of-type {\n",
       "        vertical-align: middle;\n",
       "    }\n",
       "\n",
       "    .dataframe tbody tr th {\n",
       "        vertical-align: top;\n",
       "    }\n",
       "\n",
       "    .dataframe thead th {\n",
       "        text-align: right;\n",
       "    }\n",
       "</style>\n",
       "<table border=\"1\" class=\"dataframe\">\n",
       "  <thead>\n",
       "    <tr style=\"text-align: right;\">\n",
       "      <th></th>\n",
       "      <th>target</th>\n",
       "      <th>text</th>\n",
       "      <th>num_char</th>\n",
       "      <th>num_words</th>\n",
       "      <th>num_sent</th>\n",
       "      <th>transform_text</th>\n",
       "    </tr>\n",
       "  </thead>\n",
       "  <tbody>\n",
       "    <tr>\n",
       "      <th>0</th>\n",
       "      <td>0</td>\n",
       "      <td>Go until jurong point, crazy.. Available only ...</td>\n",
       "      <td>111</td>\n",
       "      <td>24</td>\n",
       "      <td>2</td>\n",
       "      <td>go jurong point crazi avail bugi n great world...</td>\n",
       "    </tr>\n",
       "    <tr>\n",
       "      <th>1</th>\n",
       "      <td>0</td>\n",
       "      <td>Ok lar... Joking wif u oni...</td>\n",
       "      <td>29</td>\n",
       "      <td>8</td>\n",
       "      <td>2</td>\n",
       "      <td>ok lar joke wif u oni</td>\n",
       "    </tr>\n",
       "    <tr>\n",
       "      <th>2</th>\n",
       "      <td>1</td>\n",
       "      <td>Free entry in 2 a wkly comp to win FA Cup fina...</td>\n",
       "      <td>155</td>\n",
       "      <td>37</td>\n",
       "      <td>2</td>\n",
       "      <td>free entri 2 wkli comp win fa cup final tkt 21...</td>\n",
       "    </tr>\n",
       "    <tr>\n",
       "      <th>3</th>\n",
       "      <td>0</td>\n",
       "      <td>U dun say so early hor... U c already then say...</td>\n",
       "      <td>49</td>\n",
       "      <td>13</td>\n",
       "      <td>1</td>\n",
       "      <td>u dun say earli hor u c alreadi say</td>\n",
       "    </tr>\n",
       "    <tr>\n",
       "      <th>4</th>\n",
       "      <td>0</td>\n",
       "      <td>Nah I don't think he goes to usf, he lives aro...</td>\n",
       "      <td>61</td>\n",
       "      <td>15</td>\n",
       "      <td>1</td>\n",
       "      <td>nah think goe usf live around though</td>\n",
       "    </tr>\n",
       "  </tbody>\n",
       "</table>\n",
       "</div>"
      ],
      "text/plain": [
       "   target                                               text  num_char  \\\n",
       "0       0  Go until jurong point, crazy.. Available only ...       111   \n",
       "1       0                      Ok lar... Joking wif u oni...        29   \n",
       "2       1  Free entry in 2 a wkly comp to win FA Cup fina...       155   \n",
       "3       0  U dun say so early hor... U c already then say...        49   \n",
       "4       0  Nah I don't think he goes to usf, he lives aro...        61   \n",
       "\n",
       "   num_words  num_sent                                     transform_text  \n",
       "0         24         2  go jurong point crazi avail bugi n great world...  \n",
       "1          8         2                              ok lar joke wif u oni  \n",
       "2         37         2  free entri 2 wkli comp win fa cup final tkt 21...  \n",
       "3         13         1                u dun say earli hor u c alreadi say  \n",
       "4         15         1               nah think goe usf live around though  "
      ]
     },
     "execution_count": 50,
     "metadata": {},
     "output_type": "execute_result"
    }
   ],
   "source": [
    "df.head()"
   ]
  },
  {
   "cell_type": "code",
   "execution_count": 51,
   "id": "7dafdbee",
   "metadata": {},
   "outputs": [],
   "source": [
    "c = 0\n",
    "for i in df['transform_text'][0].split():\n",
    "    c += 1"
   ]
  },
  {
   "cell_type": "code",
   "execution_count": 52,
   "id": "668d827f",
   "metadata": {},
   "outputs": [
    {
     "data": {
      "text/plain": [
       "16"
      ]
     },
     "execution_count": 52,
     "metadata": {},
     "output_type": "execute_result"
    }
   ],
   "source": [
    "c"
   ]
  },
  {
   "cell_type": "code",
   "execution_count": null,
   "id": "8afe20a1",
   "metadata": {},
   "outputs": [],
   "source": []
  },
  {
   "cell_type": "code",
   "execution_count": 53,
   "id": "70ea0621",
   "metadata": {},
   "outputs": [],
   "source": [
    "from wordcloud import WordCloud\n",
    "wc = WordCloud(width=800,height=800,min_font_size=20,background_color='white')"
   ]
  },
  {
   "cell_type": "code",
   "execution_count": 54,
   "id": "2f76e7b2",
   "metadata": {},
   "outputs": [],
   "source": [
    "#for spam messages\n",
    "spam_wc = wc.generate(df[df['target'] == 1]['transform_text'].str.cat(sep=\" \"))"
   ]
  },
  {
   "cell_type": "code",
   "execution_count": 55,
   "id": "a1d62abd",
   "metadata": {},
   "outputs": [
    {
     "data": {
      "image/png": "[encoded data removed]",
      "text/plain": [
       "<Figure size 640x480 with 1 Axes>"
      ]
     },
     "metadata": {},
     "output_type": "display_data"
    }
   ],
   "source": [
    "plt.imshow(spam_wc)\n",
    "plt.show()"
   ]
  },
  {
   "cell_type": "code",
   "execution_count": 56,
   "id": "c7d14aaa",
   "metadata": {},
   "outputs": [],
   "source": [
    "#for ham messages\n",
    "ham_wc = wc.generate(df[df['target'] == 0]['transform_text'].str.cat(sep=\" \"))"
   ]
  },
  {
   "cell_type": "code",
   "execution_count": 57,
   "id": "0a936a94",
   "metadata": {},
   "outputs": [
    {
     "data": {
      "image/png": "[encoded data removed]",
      "text/plain": [
       "<Figure size 640x480 with 1 Axes>"
      ]
     },
     "metadata": {},
     "output_type": "display_data"
    }
   ],
   "source": [
    "plt.imshow(ham_wc)\n",
    "plt.show()"
   ]
  },
  {
   "cell_type": "code",
   "execution_count": 58,
   "id": "f4de2cee",
   "metadata": {},
   "outputs": [
    {
     "data": {
      "text/html": [
       "<div>\n",
       "<style scoped>\n",
       "    .dataframe tbody tr th:only-of-type {\n",
       "        vertical-align: middle;\n",
       "    }\n",
       "\n",
       "    .dataframe tbody tr th {\n",
       "        vertical-align: top;\n",
       "    }\n",
       "\n",
       "    .dataframe thead th {\n",
       "        text-align: right;\n",
       "    }\n",
       "</style>\n",
       "<table border=\"1\" class=\"dataframe\">\n",
       "  <thead>\n",
       "    <tr style=\"text-align: right;\">\n",
       "      <th></th>\n",
       "      <th>target</th>\n",
       "      <th>text</th>\n",
       "      <th>num_char</th>\n",
       "      <th>num_words</th>\n",
       "      <th>num_sent</th>\n",
       "      <th>transform_text</th>\n",
       "    </tr>\n",
       "  </thead>\n",
       "  <tbody>\n",
       "    <tr>\n",
       "      <th>0</th>\n",
       "      <td>0</td>\n",
       "      <td>Go until jurong point, crazy.. Available only ...</td>\n",
       "      <td>111</td>\n",
       "      <td>24</td>\n",
       "      <td>2</td>\n",
       "      <td>go jurong point crazi avail bugi n great world...</td>\n",
       "    </tr>\n",
       "    <tr>\n",
       "      <th>1</th>\n",
       "      <td>0</td>\n",
       "      <td>Ok lar... Joking wif u oni...</td>\n",
       "      <td>29</td>\n",
       "      <td>8</td>\n",
       "      <td>2</td>\n",
       "      <td>ok lar joke wif u oni</td>\n",
       "    </tr>\n",
       "    <tr>\n",
       "      <th>2</th>\n",
       "      <td>1</td>\n",
       "      <td>Free entry in 2 a wkly comp to win FA Cup fina...</td>\n",
       "      <td>155</td>\n",
       "      <td>37</td>\n",
       "      <td>2</td>\n",
       "      <td>free entri 2 wkli comp win fa cup final tkt 21...</td>\n",
       "    </tr>\n",
       "    <tr>\n",
       "      <th>3</th>\n",
       "      <td>0</td>\n",
       "      <td>U dun say so early hor... U c already then say...</td>\n",
       "      <td>49</td>\n",
       "      <td>13</td>\n",
       "      <td>1</td>\n",
       "      <td>u dun say earli hor u c alreadi say</td>\n",
       "    </tr>\n",
       "    <tr>\n",
       "      <th>4</th>\n",
       "      <td>0</td>\n",
       "      <td>Nah I don't think he goes to usf, he lives aro...</td>\n",
       "      <td>61</td>\n",
       "      <td>15</td>\n",
       "      <td>1</td>\n",
       "      <td>nah think goe usf live around though</td>\n",
       "    </tr>\n",
       "  </tbody>\n",
       "</table>\n",
       "</div>"
      ],
      "text/plain": [
       "   target                                               text  num_char  \\\n",
       "0       0  Go until jurong point, crazy.. Available only ...       111   \n",
       "1       0                      Ok lar... Joking wif u oni...        29   \n",
       "2       1  Free entry in 2 a wkly comp to win FA Cup fina...       155   \n",
       "3       0  U dun say so early hor... U c already then say...        49   \n",
       "4       0  Nah I don't think he goes to usf, he lives aro...        61   \n",
       "\n",
       "   num_words  num_sent                                     transform_text  \n",
       "0         24         2  go jurong point crazi avail bugi n great world...  \n",
       "1          8         2                              ok lar joke wif u oni  \n",
       "2         37         2  free entri 2 wkli comp win fa cup final tkt 21...  \n",
       "3         13         1                u dun say earli hor u c alreadi say  \n",
       "4         15         1               nah think goe usf live around though  "
      ]
     },
     "execution_count": 58,
     "metadata": {},
     "output_type": "execute_result"
    }
   ],
   "source": [
    "df.head()"
   ]
  },
  {
   "cell_type": "code",
   "execution_count": 59,
   "id": "9ec71e20",
   "metadata": {},
   "outputs": [],
   "source": [
    "spam_corpus = []\n",
    "for msg in df[df['target'] == 1]['transform_text'].tolist():\n",
    "    for word in msg.split():\n",
    "        spam_corpus.append(word)"
   ]
  },
  {
   "cell_type": "code",
   "execution_count": 60,
   "id": "ff9b20b4",
   "metadata": {},
   "outputs": [
    {
     "data": {
      "text/plain": [
       "['free',\n",
       " 'entri',\n",
       " '2',\n",
       " 'wkli',\n",
       " 'comp',\n",
       " 'win',\n",
       " 'fa',\n",
       " 'cup',\n",
       " 'final',\n",
       " 'tkt',\n",
       " '21st',\n",
       " 'may',\n",
       " 'text',\n",
       " 'fa',\n",
       " '87121',\n",
       " 'receiv',\n",
       " 'entri',\n",
       " 'question',\n",
       " 'std',\n",
       " 'txt',\n",
       " 'rate',\n",
       " 'c',\n",
       " 'appli',\n",
       " '08452810075over18',\n",
       " 'freemsg',\n",
       " 'hey',\n",
       " 'darl',\n",
       " '3',\n",
       " 'week',\n",
       " 'word',\n",
       " 'back',\n",
       " 'like',\n",
       " 'fun',\n",
       " 'still',\n",
       " 'tb',\n",
       " 'ok',\n",
       " 'xxx',\n",
       " 'std',\n",
       " 'chg',\n",
       " 'send',\n",
       " 'rcv',\n",
       " 'winner',\n",
       " 'valu',\n",
       " 'network',\n",
       " 'custom',\n",
       " 'select',\n",
       " 'receivea',\n",
       " 'prize',\n",
       " 'reward',\n",
       " 'claim',\n",
       " 'call',\n",
       " 'claim',\n",
       " 'code',\n",
       " 'kl341',\n",
       " 'valid',\n",
       " '12',\n",
       " 'hour',\n",
       " 'mobil',\n",
       " '11',\n",
       " 'month',\n",
       " 'u',\n",
       " 'r',\n",
       " 'entitl',\n",
       " 'updat',\n",
       " 'latest',\n",
       " 'colour',\n",
       " 'mobil',\n",
       " 'camera',\n",
       " 'free',\n",
       " 'call',\n",
       " 'mobil',\n",
       " 'updat',\n",
       " 'co',\n",
       " 'free',\n",
       " '08002986030',\n",
       " 'six',\n",
       " 'chanc',\n",
       " 'win',\n",
       " 'cash',\n",
       " '100',\n",
       " 'pound',\n",
       " 'txt',\n",
       " 'csh11',\n",
       " 'send',\n",
       " 'cost',\n",
       " '6day',\n",
       " 'tsandc',\n",
       " 'appli',\n",
       " 'repli',\n",
       " 'hl',\n",
       " '4',\n",
       " 'info',\n",
       " 'urgent',\n",
       " '1',\n",
       " 'week',\n",
       " 'free',\n",
       " 'membership',\n",
       " 'prize',\n",
       " 'jackpot',\n",
       " 'txt',\n",
       " 'word',\n",
       " 'claim',\n",
       " '81010',\n",
       " 'c',\n",
       " 'lccltd',\n",
       " 'pobox',\n",
       " '4403ldnw1a7rw18',\n",
       " 'xxxmobilemovieclub',\n",
       " 'use',\n",
       " 'credit',\n",
       " 'click',\n",
       " 'wap',\n",
       " 'link',\n",
       " 'next',\n",
       " 'txt',\n",
       " 'messag',\n",
       " 'click',\n",
       " 'http',\n",
       " 'england',\n",
       " 'v',\n",
       " 'macedonia',\n",
       " 'dont',\n",
       " 'miss',\n",
       " 'news',\n",
       " 'txt',\n",
       " 'ur',\n",
       " 'nation',\n",
       " 'team',\n",
       " '87077',\n",
       " 'eg',\n",
       " 'england',\n",
       " '87077',\n",
       " 'tri',\n",
       " 'wale',\n",
       " 'scotland',\n",
       " 'poboxox36504w45wq',\n",
       " 'thank',\n",
       " 'subscript',\n",
       " 'rington',\n",
       " 'uk',\n",
       " 'mobil',\n",
       " 'charg',\n",
       " 'pleas',\n",
       " 'confirm',\n",
       " 'repli',\n",
       " 'ye',\n",
       " 'repli',\n",
       " 'charg',\n",
       " '07732584351',\n",
       " 'rodger',\n",
       " 'burn',\n",
       " 'msg',\n",
       " 'tri',\n",
       " 'call',\n",
       " 'repli',\n",
       " 'sm',\n",
       " 'free',\n",
       " 'nokia',\n",
       " 'mobil',\n",
       " 'free',\n",
       " 'camcord',\n",
       " 'pleas',\n",
       " 'call',\n",
       " '08000930705',\n",
       " 'deliveri',\n",
       " 'tomorrow',\n",
       " 'sm',\n",
       " 'ac',\n",
       " 'sptv',\n",
       " 'new',\n",
       " 'jersey',\n",
       " 'devil',\n",
       " 'detroit',\n",
       " 'red',\n",
       " 'wing',\n",
       " 'play',\n",
       " 'ice',\n",
       " 'hockey',\n",
       " 'correct',\n",
       " 'incorrect',\n",
       " 'end',\n",
       " 'repli',\n",
       " 'end',\n",
       " 'sptv',\n",
       " 'congrat',\n",
       " '1',\n",
       " 'year',\n",
       " 'special',\n",
       " 'cinema',\n",
       " 'pass',\n",
       " '2',\n",
       " 'call',\n",
       " '09061209465',\n",
       " 'c',\n",
       " 'suprman',\n",
       " 'v',\n",
       " 'matrix3',\n",
       " 'starwars3',\n",
       " 'etc',\n",
       " '4',\n",
       " 'free',\n",
       " '150pm',\n",
       " 'dont',\n",
       " 'miss',\n",
       " 'valu',\n",
       " 'custom',\n",
       " 'pleas',\n",
       " 'advis',\n",
       " 'follow',\n",
       " 'recent',\n",
       " 'review',\n",
       " 'mob',\n",
       " 'award',\n",
       " 'bonu',\n",
       " 'prize',\n",
       " 'call',\n",
       " '09066364589',\n",
       " 'urgent',\n",
       " 'ur',\n",
       " 'award',\n",
       " 'complimentari',\n",
       " 'trip',\n",
       " 'eurodisinc',\n",
       " 'trav',\n",
       " 'aco',\n",
       " 'entry41',\n",
       " 'claim',\n",
       " 'txt',\n",
       " 'di',\n",
       " '87121',\n",
       " 'morefrmmob',\n",
       " 'shracomorsglsuplt',\n",
       " '10',\n",
       " 'ls1',\n",
       " '3aj',\n",
       " 'hear',\n",
       " 'new',\n",
       " 'come',\n",
       " 'ken',\n",
       " 'stuff',\n",
       " 'pleas',\n",
       " 'call',\n",
       " 'custom',\n",
       " 'servic',\n",
       " 'repres',\n",
       " '0800',\n",
       " '169',\n",
       " '6031',\n",
       " 'guarante',\n",
       " 'cash',\n",
       " 'prize',\n",
       " 'free',\n",
       " 'rington',\n",
       " 'wait',\n",
       " 'collect',\n",
       " 'simpli',\n",
       " 'text',\n",
       " 'password',\n",
       " '85069',\n",
       " 'verifi',\n",
       " 'get',\n",
       " 'usher',\n",
       " 'britney',\n",
       " 'fml',\n",
       " 'gent',\n",
       " 'tri',\n",
       " 'contact',\n",
       " 'last',\n",
       " 'weekend',\n",
       " 'draw',\n",
       " 'show',\n",
       " 'prize',\n",
       " 'guarante',\n",
       " 'call',\n",
       " 'claim',\n",
       " 'code',\n",
       " 'k52',\n",
       " 'valid',\n",
       " '12hr',\n",
       " '150ppm',\n",
       " 'winner',\n",
       " 'u',\n",
       " 'special',\n",
       " 'select',\n",
       " '2',\n",
       " 'receiv',\n",
       " '4',\n",
       " 'holiday',\n",
       " 'flight',\n",
       " 'inc',\n",
       " 'speak',\n",
       " 'live',\n",
       " 'oper',\n",
       " '2',\n",
       " 'claim',\n",
       " 'privat',\n",
       " '2004',\n",
       " 'account',\n",
       " 'statement',\n",
       " '07742676969',\n",
       " 'show',\n",
       " '786',\n",
       " 'unredeem',\n",
       " 'bonu',\n",
       " 'point',\n",
       " 'claim',\n",
       " 'call',\n",
       " '08719180248',\n",
       " 'identifi',\n",
       " 'code',\n",
       " '45239',\n",
       " 'expir',\n",
       " 'urgent',\n",
       " 'mobil',\n",
       " 'award',\n",
       " 'bonu',\n",
       " 'caller',\n",
       " 'prize',\n",
       " 'final',\n",
       " 'tri',\n",
       " 'contact',\n",
       " 'u',\n",
       " 'call',\n",
       " 'landlin',\n",
       " '09064019788',\n",
       " 'box42wr29c',\n",
       " '150ppm',\n",
       " 'today',\n",
       " 'voda',\n",
       " 'number',\n",
       " 'end',\n",
       " '7548',\n",
       " 'select',\n",
       " 'receiv',\n",
       " '350',\n",
       " 'award',\n",
       " 'match',\n",
       " 'pleas',\n",
       " 'call',\n",
       " '08712300220',\n",
       " 'quot',\n",
       " 'claim',\n",
       " 'code',\n",
       " '4041',\n",
       " 'standard',\n",
       " 'rate',\n",
       " 'app',\n",
       " 'sunshin',\n",
       " 'quiz',\n",
       " 'wkli',\n",
       " 'q',\n",
       " 'win',\n",
       " 'top',\n",
       " 'soni',\n",
       " 'dvd',\n",
       " 'player',\n",
       " 'u',\n",
       " 'know',\n",
       " 'countri',\n",
       " 'algarv',\n",
       " 'txt',\n",
       " 'ansr',\n",
       " 'sp',\n",
       " 'tyron',\n",
       " 'want',\n",
       " '2',\n",
       " 'get',\n",
       " 'laid',\n",
       " 'tonight',\n",
       " 'want',\n",
       " 'real',\n",
       " 'dog',\n",
       " 'locat',\n",
       " 'sent',\n",
       " 'direct',\n",
       " '2',\n",
       " 'ur',\n",
       " 'mob',\n",
       " 'join',\n",
       " 'uk',\n",
       " 'largest',\n",
       " 'dog',\n",
       " 'network',\n",
       " 'bt',\n",
       " 'txting',\n",
       " 'gravel',\n",
       " '69888',\n",
       " 'nt',\n",
       " 'ec2a',\n",
       " '150p',\n",
       " 'rcv',\n",
       " 'msg',\n",
       " 'chat',\n",
       " 'svc',\n",
       " 'free',\n",
       " 'hardcor',\n",
       " 'servic',\n",
       " 'text',\n",
       " 'go',\n",
       " '69988',\n",
       " 'u',\n",
       " 'get',\n",
       " 'noth',\n",
       " 'u',\n",
       " 'must',\n",
       " 'age',\n",
       " 'verifi',\n",
       " 'yr',\n",
       " 'network',\n",
       " 'tri',\n",
       " 'freemsg',\n",
       " 'repli',\n",
       " 'text',\n",
       " 'randi',\n",
       " 'sexi',\n",
       " 'femal',\n",
       " 'live',\n",
       " 'local',\n",
       " 'luv',\n",
       " 'hear',\n",
       " 'netcollex',\n",
       " 'ltd',\n",
       " '08700621170150p',\n",
       " 'per',\n",
       " 'msg',\n",
       " 'repli',\n",
       " 'stop',\n",
       " 'end',\n",
       " 'custom',\n",
       " 'servic',\n",
       " 'annonc',\n",
       " 'new',\n",
       " 'year',\n",
       " 'deliveri',\n",
       " 'wait',\n",
       " 'pleas',\n",
       " 'call',\n",
       " '07046744435',\n",
       " 'arrang',\n",
       " 'deliveri',\n",
       " 'winner',\n",
       " 'u',\n",
       " 'special',\n",
       " 'select',\n",
       " '2',\n",
       " 'receiv',\n",
       " 'cash',\n",
       " '4',\n",
       " 'holiday',\n",
       " 'flight',\n",
       " 'inc',\n",
       " 'speak',\n",
       " 'live',\n",
       " 'oper',\n",
       " '2',\n",
       " 'claim',\n",
       " '0871277810810',\n",
       " 'stop',\n",
       " 'bootydeli',\n",
       " 'invit',\n",
       " 'friend',\n",
       " 'repli',\n",
       " 'see',\n",
       " 'stop',\n",
       " 'send',\n",
       " 'stop',\n",
       " 'frnd',\n",
       " '62468',\n",
       " 'bangbab',\n",
       " 'ur',\n",
       " 'order',\n",
       " 'way',\n",
       " 'u',\n",
       " 'receiv',\n",
       " 'servic',\n",
       " 'msg',\n",
       " '2',\n",
       " 'download',\n",
       " 'ur',\n",
       " 'content',\n",
       " 'u',\n",
       " 'goto',\n",
       " 'wap',\n",
       " 'bangb',\n",
       " 'tv',\n",
       " 'ur',\n",
       " 'mobil',\n",
       " 'menu',\n",
       " 'urgent',\n",
       " 'tri',\n",
       " 'contact',\n",
       " 'last',\n",
       " 'weekend',\n",
       " 'draw',\n",
       " 'show',\n",
       " 'prize',\n",
       " 'guarante',\n",
       " 'call',\n",
       " 'claim',\n",
       " 'code',\n",
       " 's89',\n",
       " 'valid',\n",
       " '12hr',\n",
       " 'pleas',\n",
       " 'call',\n",
       " 'custom',\n",
       " 'servic',\n",
       " 'repres',\n",
       " 'freephon',\n",
       " '0808',\n",
       " '145',\n",
       " '4742',\n",
       " 'guarante',\n",
       " 'cash',\n",
       " 'prize',\n",
       " 'uniqu',\n",
       " 'enough',\n",
       " 'find',\n",
       " '30th',\n",
       " 'august',\n",
       " '500',\n",
       " 'new',\n",
       " 'mobil',\n",
       " '2004',\n",
       " 'must',\n",
       " 'go',\n",
       " 'txt',\n",
       " 'nokia',\n",
       " '89545',\n",
       " 'collect',\n",
       " 'today',\n",
       " '2optout',\n",
       " 'u',\n",
       " 'meet',\n",
       " 'ur',\n",
       " 'dream',\n",
       " 'partner',\n",
       " 'soon',\n",
       " 'ur',\n",
       " 'career',\n",
       " '2',\n",
       " 'flyng',\n",
       " 'start',\n",
       " '2',\n",
       " 'find',\n",
       " 'free',\n",
       " 'txt',\n",
       " 'horo',\n",
       " 'follow',\n",
       " 'ur',\n",
       " 'star',\n",
       " 'sign',\n",
       " 'horo',\n",
       " 'ari',\n",
       " 'text',\n",
       " 'meet',\n",
       " 'someon',\n",
       " 'sexi',\n",
       " 'today',\n",
       " 'u',\n",
       " 'find',\n",
       " 'date',\n",
       " 'even',\n",
       " 'flirt',\n",
       " 'join',\n",
       " '4',\n",
       " '10p',\n",
       " 'repli',\n",
       " 'name',\n",
       " 'age',\n",
       " 'eg',\n",
       " 'sam',\n",
       " '25',\n",
       " '18',\n",
       " 'recd',\n",
       " 'thirtyeight',\n",
       " 'penc',\n",
       " 'u',\n",
       " '447801259231',\n",
       " 'secret',\n",
       " 'admir',\n",
       " 'look',\n",
       " '2',\n",
       " 'make',\n",
       " 'contact',\n",
       " 'r',\n",
       " 'reveal',\n",
       " 'think',\n",
       " 'ur',\n",
       " '09058094597',\n",
       " 'congratul',\n",
       " 'ur',\n",
       " 'award',\n",
       " '500',\n",
       " 'cd',\n",
       " 'voucher',\n",
       " '125gift',\n",
       " 'guarante',\n",
       " 'free',\n",
       " 'entri',\n",
       " '2',\n",
       " '100',\n",
       " 'wkli',\n",
       " 'draw',\n",
       " 'txt',\n",
       " 'music',\n",
       " '87066',\n",
       " 'tnc',\n",
       " 'tri',\n",
       " 'contact',\n",
       " 'repli',\n",
       " 'offer',\n",
       " 'video',\n",
       " 'handset',\n",
       " '750',\n",
       " 'anytim',\n",
       " 'network',\n",
       " 'min',\n",
       " 'unlimit',\n",
       " 'text',\n",
       " 'camcord',\n",
       " 'repli',\n",
       " 'call',\n",
       " '08000930705',\n",
       " 'hey',\n",
       " 'realli',\n",
       " 'horni',\n",
       " 'want',\n",
       " 'chat',\n",
       " 'see',\n",
       " 'nake',\n",
       " 'text',\n",
       " 'hot',\n",
       " '69698',\n",
       " 'text',\n",
       " 'charg',\n",
       " '150pm',\n",
       " 'unsubscrib',\n",
       " 'text',\n",
       " 'stop',\n",
       " '69698',\n",
       " 'ur',\n",
       " 'rington',\n",
       " 'servic',\n",
       " 'chang',\n",
       " '25',\n",
       " 'free',\n",
       " 'credit',\n",
       " 'go',\n",
       " 'choos',\n",
       " 'content',\n",
       " 'stop',\n",
       " 'txt',\n",
       " 'club',\n",
       " 'stop',\n",
       " '87070',\n",
       " 'club4',\n",
       " 'po',\n",
       " 'box1146',\n",
       " 'mk45',\n",
       " '2wt',\n",
       " 'rington',\n",
       " 'club',\n",
       " 'get',\n",
       " 'uk',\n",
       " 'singl',\n",
       " 'chart',\n",
       " 'mobil',\n",
       " 'week',\n",
       " 'choos',\n",
       " 'top',\n",
       " 'qualiti',\n",
       " 'rington',\n",
       " 'messag',\n",
       " 'free',\n",
       " 'charg',\n",
       " 'hmv',\n",
       " 'bonu',\n",
       " 'special',\n",
       " '500',\n",
       " 'pound',\n",
       " 'genuin',\n",
       " 'hmv',\n",
       " 'voucher',\n",
       " 'answer',\n",
       " '4',\n",
       " 'easi',\n",
       " 'question',\n",
       " 'play',\n",
       " 'send',\n",
       " 'hmv',\n",
       " '86688',\n",
       " 'info',\n",
       " 'custom',\n",
       " 'may',\n",
       " 'claim',\n",
       " 'free',\n",
       " 'camera',\n",
       " 'phone',\n",
       " 'upgrad',\n",
       " 'pay',\n",
       " 'go',\n",
       " 'sim',\n",
       " 'card',\n",
       " 'loyalti',\n",
       " 'call',\n",
       " '0845',\n",
       " '021',\n",
       " 'end',\n",
       " 'c',\n",
       " 'appli',\n",
       " 'sm',\n",
       " 'ac',\n",
       " 'blind',\n",
       " 'date',\n",
       " '4u',\n",
       " 'rodds1',\n",
       " 'aberdeen',\n",
       " 'unit',\n",
       " 'kingdom',\n",
       " 'check',\n",
       " 'http',\n",
       " 'sm',\n",
       " 'blind',\n",
       " 'date',\n",
       " 'send',\n",
       " 'hide',\n",
       " 'themob',\n",
       " 'check',\n",
       " 'newest',\n",
       " 'select',\n",
       " 'content',\n",
       " 'game',\n",
       " 'tone',\n",
       " 'gossip',\n",
       " 'babe',\n",
       " 'sport',\n",
       " 'keep',\n",
       " 'mobil',\n",
       " 'fit',\n",
       " 'funki',\n",
       " 'text',\n",
       " 'wap',\n",
       " '82468',\n",
       " 'think',\n",
       " 'ur',\n",
       " 'smart',\n",
       " 'win',\n",
       " 'week',\n",
       " 'weekli',\n",
       " 'quiz',\n",
       " 'text',\n",
       " 'play',\n",
       " '85222',\n",
       " 'cs',\n",
       " 'winnersclub',\n",
       " 'po',\n",
       " 'box',\n",
       " '84',\n",
       " 'm26',\n",
       " '3uz',\n",
       " 'decemb',\n",
       " 'mobil',\n",
       " 'entitl',\n",
       " 'updat',\n",
       " 'latest',\n",
       " 'colour',\n",
       " 'camera',\n",
       " 'mobil',\n",
       " 'free',\n",
       " 'call',\n",
       " 'mobil',\n",
       " 'updat',\n",
       " 'co',\n",
       " 'free',\n",
       " '08002986906',\n",
       " 'call',\n",
       " 'germani',\n",
       " '1',\n",
       " 'penc',\n",
       " 'per',\n",
       " 'minut',\n",
       " 'call',\n",
       " 'fix',\n",
       " 'line',\n",
       " 'via',\n",
       " 'access',\n",
       " 'number',\n",
       " '0844',\n",
       " '861',\n",
       " '85',\n",
       " 'prepay',\n",
       " 'direct',\n",
       " 'access',\n",
       " 'valentin',\n",
       " 'day',\n",
       " 'special',\n",
       " 'win',\n",
       " 'quiz',\n",
       " 'take',\n",
       " 'partner',\n",
       " 'trip',\n",
       " 'lifetim',\n",
       " 'send',\n",
       " 'go',\n",
       " '83600',\n",
       " 'rcvd',\n",
       " 'fanci',\n",
       " 'shag',\n",
       " 'txt',\n",
       " 'xxuk',\n",
       " 'suzi',\n",
       " 'txt',\n",
       " 'cost',\n",
       " 'per',\n",
       " 'msg',\n",
       " 'tnc',\n",
       " 'websit',\n",
       " 'x',\n",
       " 'ur',\n",
       " 'current',\n",
       " '500',\n",
       " 'pound',\n",
       " 'maxim',\n",
       " 'ur',\n",
       " 'send',\n",
       " 'cash',\n",
       " '86688',\n",
       " 'cc',\n",
       " '08708800282',\n",
       " 'xma',\n",
       " 'offer',\n",
       " 'latest',\n",
       " 'motorola',\n",
       " 'sonyericsson',\n",
       " 'nokia',\n",
       " 'free',\n",
       " 'bluetooth',\n",
       " 'doubl',\n",
       " 'min',\n",
       " '1000',\n",
       " 'txt',\n",
       " 'orang',\n",
       " 'call',\n",
       " 'mobileupd8',\n",
       " '08000839402',\n",
       " 'discount',\n",
       " 'code',\n",
       " 'rp176781',\n",
       " 'stop',\n",
       " 'messag',\n",
       " 'repli',\n",
       " 'stop',\n",
       " 'custom',\n",
       " 'servic',\n",
       " '08717205546',\n",
       " 'thank',\n",
       " 'rington',\n",
       " 'order',\n",
       " 'refer',\n",
       " 't91',\n",
       " 'charg',\n",
       " 'gbp',\n",
       " '4',\n",
       " 'per',\n",
       " 'week',\n",
       " 'unsubscrib',\n",
       " 'anytim',\n",
       " 'call',\n",
       " 'custom',\n",
       " 'servic',\n",
       " '09057039994',\n",
       " 'doubl',\n",
       " 'min',\n",
       " 'txt',\n",
       " '4',\n",
       " '6month',\n",
       " 'free',\n",
       " 'bluetooth',\n",
       " 'orang',\n",
       " 'avail',\n",
       " 'soni',\n",
       " 'nokia',\n",
       " 'motorola',\n",
       " 'phone',\n",
       " 'call',\n",
       " 'mobileupd8',\n",
       " '08000839402',\n",
       " '4mth',\n",
       " 'half',\n",
       " 'price',\n",
       " 'orang',\n",
       " 'line',\n",
       " 'rental',\n",
       " 'latest',\n",
       " 'camera',\n",
       " 'phone',\n",
       " '4',\n",
       " 'free',\n",
       " 'phone',\n",
       " '11mth',\n",
       " 'call',\n",
       " 'mobilesdirect',\n",
       " 'free',\n",
       " '08000938767',\n",
       " 'updat',\n",
       " 'or2stoptxt',\n",
       " 'free',\n",
       " 'rington',\n",
       " 'text',\n",
       " 'first',\n",
       " '87131',\n",
       " 'poli',\n",
       " 'text',\n",
       " 'get',\n",
       " '87131',\n",
       " 'true',\n",
       " 'tone',\n",
       " 'help',\n",
       " '0845',\n",
       " '2814032',\n",
       " '16',\n",
       " '1st',\n",
       " 'free',\n",
       " 'tone',\n",
       " 'txt',\n",
       " 'stop',\n",
       " '100',\n",
       " 'date',\n",
       " 'servic',\n",
       " 'cal',\n",
       " 'l',\n",
       " '09064012103',\n",
       " 'box334sk38ch',\n",
       " 'free',\n",
       " 'entri',\n",
       " 'weekli',\n",
       " 'competit',\n",
       " 'text',\n",
       " 'word',\n",
       " 'win',\n",
       " '80086',\n",
       " '18',\n",
       " 'c',\n",
       " 'send',\n",
       " 'logo',\n",
       " '2',\n",
       " 'ur',\n",
       " 'lover',\n",
       " '2',\n",
       " 'name',\n",
       " 'join',\n",
       " 'heart',\n",
       " 'txt',\n",
       " 'love',\n",
       " 'name1',\n",
       " 'name2',\n",
       " 'mobno',\n",
       " 'eg',\n",
       " 'love',\n",
       " 'adam',\n",
       " 'eve',\n",
       " '07123456789',\n",
       " '87077',\n",
       " 'yahoo',\n",
       " 'pobox36504w45wq',\n",
       " 'txtno',\n",
       " '4',\n",
       " 'ad',\n",
       " '150p',\n",
       " 'someon',\n",
       " 'contact',\n",
       " 'date',\n",
       " 'servic',\n",
       " 'enter',\n",
       " 'phone',\n",
       " 'fanci',\n",
       " 'find',\n",
       " 'call',\n",
       " 'landlin',\n",
       " '09111032124',\n",
       " 'pobox12n146tf150p',\n",
       " 'urgent',\n",
       " 'mobil',\n",
       " 'number',\n",
       " 'award',\n",
       " 'prize',\n",
       " 'guarante',\n",
       " 'call',\n",
       " '09058094455',\n",
       " 'land',\n",
       " 'line',\n",
       " 'claim',\n",
       " 'valid',\n",
       " '12hr',\n",
       " 'congrat',\n",
       " 'nokia',\n",
       " '3650',\n",
       " 'video',\n",
       " 'camera',\n",
       " ...]"
      ]
     },
     "execution_count": 60,
     "metadata": {},
     "output_type": "execute_result"
    }
   ],
   "source": [
    "spam_corpus\n"
   ]
  },
  {
   "cell_type": "code",
   "execution_count": 61,
   "id": "f385d32d",
   "metadata": {},
   "outputs": [],
   "source": [
    "from collections import Counter"
   ]
  },
  {
   "cell_type": "code",
   "execution_count": 62,
   "id": "c1d92400",
   "metadata": {},
   "outputs": [
    {
     "data": {
      "text/plain": [
       "<Axes: >"
      ]
     },
     "execution_count": 62,
     "metadata": {},
     "output_type": "execute_result"
    },
    {
     "data": {
      "image/png": "[encoded data removed]",
      "text/plain": [
       "<Figure size 640x480 with 1 Axes>"
      ]
     },
     "metadata": {},
     "output_type": "display_data"
    }
   ],
   "source": [
    "sns.barplot(pd.DataFrame(Counter(spam_corpus).most_common()))\n"
   ]
  },
  {
   "cell_type": "code",
   "execution_count": null,
   "id": "4bb2f965",
   "metadata": {},
   "outputs": [],
   "source": []
  },
  {
   "cell_type": "code",
   "execution_count": 63,
   "id": "89428133",
   "metadata": {},
   "outputs": [],
   "source": [
    "ham_corpus = []\n",
    "for msg in df[df['target'] == 0]['transform_text'].tolist():\n",
    "    for word in msg.split():\n",
    "        ham_corpus.append(word)"
   ]
  },
  {
   "cell_type": "code",
   "execution_count": 64,
   "id": "b99da5dd",
   "metadata": {},
   "outputs": [
    {
     "data": {
      "text/plain": [
       "<Axes: >"
      ]
     },
     "execution_count": 64,
     "metadata": {},
     "output_type": "execute_result"
    },
    {
     "data": {
      "image/png": "[encoded data removed]",
      "text/plain": [
       "<Figure size 640x480 with 1 Axes>"
      ]
     },
     "metadata": {},
     "output_type": "display_data"
    }
   ],
   "source": [
    "sns.barplot(pd.DataFrame(Counter(ham_corpus).most_common()))"
   ]
  },
  {
   "cell_type": "markdown",
   "id": "71e37f00",
   "metadata": {},
   "source": [
    "## 4. Model Building"
   ]
  },
  {
   "cell_type": "code",
   "execution_count": 65,
   "id": "d9ffc518",
   "metadata": {},
   "outputs": [],
   "source": [
    "from sklearn.feature_extraction.text import CountVectorizer,TfidfVectorizer"
   ]
  },
  {
   "cell_type": "code",
   "execution_count": 66,
   "id": "a2c4b001",
   "metadata": {},
   "outputs": [],
   "source": [
    "cv = CountVectorizer()\n",
    "tfidf = TfidfVectorizer()"
   ]
  },
  {
   "cell_type": "code",
   "execution_count": 67,
   "id": "ccf84f8e",
   "metadata": {},
   "outputs": [],
   "source": [
    "X = tfidf.fit_transform(df['transform_text']).toarray()"
   ]
  },
  {
   "cell_type": "code",
   "execution_count": 68,
   "id": "b0f9985f",
   "metadata": {},
   "outputs": [
    {
     "data": {
      "text/plain": [
       "array([[0., 0., 0., ..., 0., 0., 0.],\n",
       "       [0., 0., 0., ..., 0., 0., 0.],\n",
       "       [0., 0., 0., ..., 0., 0., 0.],\n",
       "       ...,\n",
       "       [0., 0., 0., ..., 0., 0., 0.],\n",
       "       [0., 0., 0., ..., 0., 0., 0.],\n",
       "       [0., 0., 0., ..., 0., 0., 0.]])"
      ]
     },
     "execution_count": 68,
     "metadata": {},
     "output_type": "execute_result"
    }
   ],
   "source": [
    "X"
   ]
  },
  {
   "cell_type": "code",
   "execution_count": 69,
   "id": "bef602b4",
   "metadata": {},
   "outputs": [
    {
     "data": {
      "text/plain": [
       "(5169, 6708)"
      ]
     },
     "execution_count": 69,
     "metadata": {},
     "output_type": "execute_result"
    }
   ],
   "source": [
    "X.shape"
   ]
  },
  {
   "cell_type": "code",
   "execution_count": 70,
   "id": "250e9011",
   "metadata": {},
   "outputs": [],
   "source": [
    "y = df['target'].values"
   ]
  },
  {
   "cell_type": "code",
   "execution_count": 71,
   "id": "c3dd933e",
   "metadata": {},
   "outputs": [
    {
     "data": {
      "text/plain": [
       "array([0, 0, 1, ..., 0, 0, 0])"
      ]
     },
     "execution_count": 71,
     "metadata": {},
     "output_type": "execute_result"
    }
   ],
   "source": [
    "y"
   ]
  },
  {
   "cell_type": "code",
   "execution_count": 72,
   "id": "ef3a7db9",
   "metadata": {},
   "outputs": [],
   "source": [
    "from sklearn.model_selection import train_test_split"
   ]
  },
  {
   "cell_type": "code",
   "execution_count": 73,
   "id": "7a0b65b2",
   "metadata": {},
   "outputs": [],
   "source": [
    "X_train,X_test,y_train,y_test = train_test_split(X,y,test_size=0.2,random_state=2)"
   ]
  },
  {
   "cell_type": "code",
   "execution_count": 74,
   "id": "686bf79c",
   "metadata": {},
   "outputs": [],
   "source": [
    "from sklearn.linear_model import LinearRegression,LogisticRegression\n",
    "from sklearn.tree import DecisionTreeClassifier\n",
    "from sklearn.neighbors import KNeighborsClassifier\n",
    "from sklearn.naive_bayes import GaussianNB,BernoulliNB,MultinomialNB\n",
    "from sklearn.metrics import accuracy_score,confusion_matrix,precision_score\n",
    "from sklearn.ensemble import RandomForestClassifier\n",
    "from sklearn.svm import SVC\n",
    "from sklearn.ensemble import AdaBoostClassifier,ExtraTreesClassifier,GradientBoostingClassifier,BaggingClassifier\n",
    "from xgboost import XGBClassifier"
   ]
  },
  {
   "cell_type": "code",
   "execution_count": 75,
   "id": "20cbee22",
   "metadata": {},
   "outputs": [],
   "source": [
    "svc = SVC(kernel='sigmoid',gamma=1.0)\n",
    "knc = KNeighborsClassifier()\n",
    "mnb = MultinomialNB()\n",
    "dtc = DecisionTreeClassifier(max_depth=5)\n",
    "lrc = LogisticRegression(solver='liblinear',penalty='l1')\n",
    "rfc = RandomForestClassifier(n_estimators=50,random_state=2)\n",
    "abc = AdaBoostClassifier(n_estimators=50,random_state=2)\n",
    "bc = BaggingClassifier(n_estimators=50,random_state=2)\n",
    "etc = ExtraTreesClassifier(n_estimators=50,random_state=2)\n",
    "gbdt = GradientBoostingClassifier(n_estimators=50,random_state=2)\n",
    "xgb = XGBClassifier(n_estimators=50,random_state=2)"
   ]
  },
  {
   "cell_type": "code",
   "execution_count": null,
   "id": "7bd1bc0a",
   "metadata": {},
   "outputs": [],
   "source": []
  },
  {
   "cell_type": "code",
   "execution_count": 76,
   "id": "4b6b84fd",
   "metadata": {},
   "outputs": [],
   "source": [
    "clfs = {\n",
    "    'SVM' :svc \n",
    "    ,'KNC':knc \n",
    "    ,'MNB':mnb \n",
    "    ,'DTC':dtc\n",
    "    ,'LRC':lrc\n",
    "    ,'RFC':rfc\n",
    "    ,'ABC':abc \n",
    "    ,'BC':bc\n",
    "    ,'ETC':etc\n",
    "    ,'GBDT':gbdt\n",
    "    ,'XGB':xgb\n",
    "}"
   ]
  },
  {
   "cell_type": "code",
   "execution_count": 77,
   "id": "fd605163",
   "metadata": {},
   "outputs": [],
   "source": [
    "def train_classfier(classifier,X_train,X_test,y_train,y_test):\n",
    "    classifier.fit(X_train,y_train) \n",
    "    y_pred = classifier.predict(X_test)\n",
    "    acc = accuracy_score(y_test,y_pred)\n",
    "    pre = precision_score(y_test,y_pred)\n",
    "    return acc,pre"
   ]
  },
  {
   "cell_type": "code",
   "execution_count": 78,
   "id": "1466298c",
   "metadata": {},
   "outputs": [
    {
     "data": {
      "text/plain": [
       "(0.9729206963249516, 0.9741379310344828)"
      ]
     },
     "execution_count": 78,
     "metadata": {},
     "output_type": "execute_result"
    }
   ],
   "source": [
    "train_classfier(svc,X_train,X_test,y_train,y_test)"
   ]
  },
  {
   "cell_type": "code",
   "execution_count": 82,
   "id": "bdbd4230",
   "metadata": {},
   "outputs": [
    {
     "name": "stdout",
     "output_type": "stream",
     "text": [
      "Name : SVM\n",
      "Accuracy : 0.9729206963249516\n",
      "Precision : 0.9741379310344828\n",
      "Name : KNC\n",
      "Accuracy : 0.9003868471953579\n",
      "Precision : 1.0\n",
      "Name : MNB\n",
      "Accuracy : 0.9593810444874274\n",
      "Precision : 1.0\n",
      "Name : DTC\n",
      "Accuracy : 0.9352030947775629\n",
      "Precision : 0.8380952380952381\n",
      "Name : LRC\n",
      "Accuracy : 0.9516441005802708\n",
      "Precision : 0.94\n",
      "Name : RFC\n",
      "Accuracy : 0.9738878143133463\n",
      "Precision : 1.0\n",
      "Name : ABC\n",
      "Accuracy : 0.9613152804642167\n",
      "Precision : 0.9454545454545454\n",
      "Name : BC\n",
      "Accuracy : 0.9584139264990329\n",
      "Precision : 0.8625954198473282\n",
      "Name : ETC\n",
      "Accuracy : 0.9758220502901354\n",
      "Precision : 0.9829059829059829\n",
      "Name : GBDT\n",
      "Accuracy : 0.9526112185686654\n",
      "Precision : 0.9238095238095239\n",
      "Name : XGB\n",
      "Accuracy : 0.9690522243713733\n",
      "Precision : 0.9344262295081968\n"
     ]
    }
   ],
   "source": [
    "accuracyScore = []\n",
    "precisionScore = []\n",
    "for name,clf in clfs.items():\n",
    "    current_accuracy,current_precision = train_classfier(clf,X_train,X_test,y_train,y_test)\n",
    "    print('Name :',name)\n",
    "    print('Accuracy :',current_accuracy)\n",
    "    print('Precision :',current_precision)\n",
    "    accuracyScore.append(current_accuracy)\n",
    "    precisionScore.append(current_precision)"
   ]
  },
  {
   "cell_type": "code",
   "execution_count": 93,
   "id": "aa697fce",
   "metadata": {},
   "outputs": [],
   "source": [
    "performance_df = pd.DataFrame({'Algorithm':clfs.keys(),'Accuracy':accuracyScore,'Precision':precisionScore}).sort_values('Accuracy',ascending=False)"
   ]
  },
  {
   "cell_type": "code",
   "execution_count": 94,
   "id": "0ee9a40f",
   "metadata": {},
   "outputs": [
    {
     "data": {
      "text/html": [
       "<div>\n",
       "<style scoped>\n",
       "    .dataframe tbody tr th:only-of-type {\n",
       "        vertical-align: middle;\n",
       "    }\n",
       "\n",
       "    .dataframe tbody tr th {\n",
       "        vertical-align: top;\n",
       "    }\n",
       "\n",
       "    .dataframe thead th {\n",
       "        text-align: right;\n",
       "    }\n",
       "</style>\n",
       "<table border=\"1\" class=\"dataframe\">\n",
       "  <thead>\n",
       "    <tr style=\"text-align: right;\">\n",
       "      <th></th>\n",
       "      <th>Algorithm</th>\n",
       "      <th>Accuracy</th>\n",
       "      <th>Precision</th>\n",
       "    </tr>\n",
       "  </thead>\n",
       "  <tbody>\n",
       "    <tr>\n",
       "      <th>8</th>\n",
       "      <td>ETC</td>\n",
       "      <td>0.975822</td>\n",
       "      <td>0.982906</td>\n",
       "    </tr>\n",
       "    <tr>\n",
       "      <th>5</th>\n",
       "      <td>RFC</td>\n",
       "      <td>0.973888</td>\n",
       "      <td>1.000000</td>\n",
       "    </tr>\n",
       "    <tr>\n",
       "      <th>0</th>\n",
       "      <td>SVM</td>\n",
       "      <td>0.972921</td>\n",
       "      <td>0.974138</td>\n",
       "    </tr>\n",
       "    <tr>\n",
       "      <th>10</th>\n",
       "      <td>XGB</td>\n",
       "      <td>0.969052</td>\n",
       "      <td>0.934426</td>\n",
       "    </tr>\n",
       "    <tr>\n",
       "      <th>6</th>\n",
       "      <td>ABC</td>\n",
       "      <td>0.961315</td>\n",
       "      <td>0.945455</td>\n",
       "    </tr>\n",
       "    <tr>\n",
       "      <th>2</th>\n",
       "      <td>MNB</td>\n",
       "      <td>0.959381</td>\n",
       "      <td>1.000000</td>\n",
       "    </tr>\n",
       "    <tr>\n",
       "      <th>7</th>\n",
       "      <td>BC</td>\n",
       "      <td>0.958414</td>\n",
       "      <td>0.862595</td>\n",
       "    </tr>\n",
       "    <tr>\n",
       "      <th>9</th>\n",
       "      <td>GBDT</td>\n",
       "      <td>0.952611</td>\n",
       "      <td>0.923810</td>\n",
       "    </tr>\n",
       "    <tr>\n",
       "      <th>4</th>\n",
       "      <td>LRC</td>\n",
       "      <td>0.951644</td>\n",
       "      <td>0.940000</td>\n",
       "    </tr>\n",
       "    <tr>\n",
       "      <th>3</th>\n",
       "      <td>DTC</td>\n",
       "      <td>0.935203</td>\n",
       "      <td>0.838095</td>\n",
       "    </tr>\n",
       "    <tr>\n",
       "      <th>1</th>\n",
       "      <td>KNC</td>\n",
       "      <td>0.900387</td>\n",
       "      <td>1.000000</td>\n",
       "    </tr>\n",
       "  </tbody>\n",
       "</table>\n",
       "</div>"
      ],
      "text/plain": [
       "   Algorithm  Accuracy  Precision\n",
       "8        ETC  0.975822   0.982906\n",
       "5        RFC  0.973888   1.000000\n",
       "0        SVM  0.972921   0.974138\n",
       "10       XGB  0.969052   0.934426\n",
       "6        ABC  0.961315   0.945455\n",
       "2        MNB  0.959381   1.000000\n",
       "7         BC  0.958414   0.862595\n",
       "9       GBDT  0.952611   0.923810\n",
       "4        LRC  0.951644   0.940000\n",
       "3        DTC  0.935203   0.838095\n",
       "1        KNC  0.900387   1.000000"
      ]
     },
     "execution_count": 94,
     "metadata": {},
     "output_type": "execute_result"
    }
   ],
   "source": [
    "performance_df"
   ]
  },
  {
   "cell_type": "code",
   "execution_count": null,
   "id": "5649a7c2",
   "metadata": {},
   "outputs": [],
   "source": []
  }
 ],
 "metadata": {
  "kernelspec": {
   "display_name": "Python 3 (ipykernel)",
   "language": "python",
   "name": "python3"
  },
  "language_info": {
   "codemirror_mode": {
    "name": "ipython",
    "version": 3
   },
   "file_extension": ".py",
   "mimetype": "text/x-python",
   "name": "python",
   "nbconvert_exporter": "python",
   "pygments_lexer": "ipython3",
   "version": "3.10.9"
  }
 },
 "nbformat": 4,
 "nbformat_minor": 5
}
